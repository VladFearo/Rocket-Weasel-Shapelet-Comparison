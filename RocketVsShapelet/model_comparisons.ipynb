{
 "cells": [
  {
   "cell_type": "code",
   "execution_count": null,
   "metadata": {},
   "outputs": [],
   "source": [
    "pip install sktime\n"
   ]
  },
  {
   "cell_type": "code",
   "execution_count": null,
   "metadata": {},
   "outputs": [],
   "source": [
    "pip install joblib"
   ]
  },
  {
   "cell_type": "code",
   "execution_count": 4,
   "metadata": {},
   "outputs": [],
   "source": [
    "dataset_names = [\n",
    " 'Adiac',\n",
    " 'ArrowHead',\n",
    " 'Beef',\n",
    " 'BeetleFly',\n",
    " 'BirdChicken',\n",
    " 'CBF',\n",
    " 'Car',\n",
    " 'ChlorineConcentration',\n",
    " 'Coffee',\n",
    " 'Computers',\n",
    " 'DiatomSizeReduction',\n",
    " 'DistalPhalanxOutlineAgeGroup',\n",
    " 'DistalPhalanxOutlineCorrect',\n",
    " 'DistalPhalanxTW',\n",
    " 'ECG200',\n",
    " 'ECG5000',\n",
    " 'ECGFiveDays',\n",
    " 'Earthquakes',\n",
    " 'ElectricDevices',\n",
    " 'FaceAll',\n",
    " 'FaceFour',\n",
    " 'FacesUCR',\n",
    " 'FordA',\n",
    " 'FordB',\n",
    " 'Ham',\n",
    " 'HandOutlines',\n",
    " 'Haptics',\n",
    " 'Herring',\n",
    " 'InlineSkate',\n",
    " 'InsectWingbeatSound',\n",
    " 'ItalyPowerDemand',\n",
    " 'LargeKitchenAppliances',\n",
    " 'Meat',\n",
    " 'MedicalImages',\n",
    " 'MiddlePhalanxOutlineAgeGroup',\n",
    " 'MiddlePhalanxOutlineCorrect',\n",
    " 'MiddlePhalanxTW',\n",
    " 'MoteStrain',\n",
    " 'OSULeaf',\n",
    " 'OliveOil',\n",
    " 'PhalangesOutlinesCorrect',\n",
    " 'Phoneme',\n",
    " 'Plane',\n",
    " 'ProximalPhalanxOutlineAgeGroup',\n",
    " 'ProximalPhalanxOutlineCorrect',\n",
    " 'ProximalPhalanxTW',\n",
    " 'RefrigerationDevices',\n",
    " 'ScreenType',\n",
    " 'ShapeletSim',\n",
    " 'ShapesAll',\n",
    " 'SmallKitchenAppliances',\n",
    " 'StarLightCurves',\n",
    " 'Strawberry',\n",
    " 'SwedishLeaf',\n",
    " 'Symbols',\n",
    " 'ToeSegmentation1',\n",
    " 'ToeSegmentation2',\n",
    " 'Trace',\n",
    " 'TwoLeadECG',\n",
    " 'UWaveGestureLibraryAll',\n",
    " 'Wine',\n",
    " 'Worms',\n",
    " 'WormsTwoClass'\n",
    " ]"
   ]
  },
  {
   "cell_type": "code",
   "execution_count": 20,
   "metadata": {},
   "outputs": [],
   "source": [
    "from sktime.classification.dictionary_based import WEASEL\n",
    "from sktime.classification.shapelet_based import ShapeletTransformClassifier\n",
    "from sktime.classification.kernel_based import RocketClassifier\n",
    "from sktime.datasets import load_UCR_UEA_dataset\n",
    "from sklearn.model_selection import train_test_split\n",
    "from sklearn.metrics import accuracy_score\n",
    "import os\n",
    "import joblib"
   ]
  },
  {
   "cell_type": "code",
   "execution_count": 21,
   "metadata": {},
   "outputs": [],
   "source": [
    "def save_model(name, database, clf):\n",
    "    # Specify the directory and filename where you want to save the model\n",
    "    save_directory = './model/'\n",
    "    model_filename = f\"{name}-{database}.pkl\" \n",
    "\n",
    "    # Combine the directory and filename to create the full file path\n",
    "    full_model_path = os.path.join(save_directory, model_filename)\n",
    "\n",
    "    # Save the trained model to the specified directory\n",
    "    joblib.dump(clf, full_model_path)\n"
   ]
  },
  {
   "cell_type": "code",
   "execution_count": null,
   "metadata": {},
   "outputs": [],
   "source": [
    "\n",
    "# Initialize empty lists to store the evaluation metrics\n",
    "rocket_scores = []\n",
    "shapelet_scores = []\n",
    "weasel_scores = []\n",
    "\n",
    "# Loop through each dataset\n",
    "# Load the dataset\n",
    "for name in dataset_names:\n",
    "    X, y = load_UCR_UEA_dataset(name, return_X_y=True)\n",
    "\n",
    "    # Split the dataset into training and testing sets\n",
    "    X_train, X_test, y_train, y_test = train_test_split(X, y, test_size=0.3, random_state=42)\n",
    "\n",
    "    # Initialize and train the ROCKET classifier\n",
    "    rocket = RocketClassifier()\n",
    "    rocket.fit(X_train, y_train)\n",
    "    \n",
    "    # Save the trained model\n",
    "    save_model(\"Rocket\", name, rocket)\n",
    "\n",
    "    # Initialize and train the ShapeletTransform classifier\n",
    "    shapelet = ShapeletTransformClassifier()\n",
    "    shapelet.fit(X_train, y_train)\n",
    "    \n",
    "    # Save the trained model\n",
    "    save_model(\"Shapelet\", name, shapelet)\n",
    "\n",
    "    # Initialize and train the WEASEL classifier\n",
    "    weasel = WEASEL()\n",
    "    weasel.fit(X_train, y_train)\n",
    "\n",
    "    # Save the trained model\n",
    "    save_model(\"WEASEL\", name, weasel)\n",
    "    \n",
    "    \n",
    "    # Evaluate the trained classifiers on the testing set\n",
    "    rocket_pred = rocket.predict(X_test)\n",
    "    shapelet_pred = shapelet.predict(X_test)\n",
    "    weasel_pred = weasel.predict(X_test)\n",
    "\n",
    "\n",
    "    # Calculate and store the accuracy scores\n",
    "    rocket_accuracy = accuracy_score(y_test, rocket_pred)\n",
    "    shapelet_accuracy = accuracy_score(y_test, shapelet_pred)\n",
    "    weasel_accuracy = accuracy_score(y_test, weasel_pred)\n",
    "\n",
    "\n",
    "    rocket_scores.append((name, rocket_accuracy))\n",
    "    shapelet_scores.append((name, shapelet_accuracy))\n",
    "    weasel_scores.append((name, weasel_accuracy))\n",
    "\n",
    "\n",
    "# Print the average accuracy scores for each classifier\n",
    "print(\"Average ROCKET Accuracy:\", sum(rocket_scores) / len(rocket_scores))\n",
    "print(\"Average ShapeletTransform Accuracy:\", sum(shapelet_scores) / len(shapelet_scores))\n"
   ]
  },
  {
   "cell_type": "code",
   "execution_count": 10,
   "metadata": {},
   "outputs": [
    {
     "data": {
      "text/plain": [
       "[0.953125]"
      ]
     },
     "execution_count": 10,
     "metadata": {},
     "output_type": "execute_result"
    }
   ],
   "source": [
    "len(rocket_scores)\n",
    "rocket_scores\n"
   ]
  },
  {
   "cell_type": "code",
   "execution_count": 11,
   "metadata": {},
   "outputs": [
    {
     "data": {
      "text/plain": [
       "[0.90625]"
      ]
     },
     "execution_count": 11,
     "metadata": {},
     "output_type": "execute_result"
    }
   ],
   "source": [
    "shapelet_scores"
   ]
  }
 ],
 "metadata": {
  "kernelspec": {
   "display_name": "Python 3",
   "language": "python",
   "name": "python3"
  },
  "language_info": {
   "codemirror_mode": {
    "name": "ipython",
    "version": 3
   },
   "file_extension": ".py",
   "mimetype": "text/x-python",
   "name": "python",
   "nbconvert_exporter": "python",
   "pygments_lexer": "ipython3",
   "version": "3.11.5"
  }
 },
 "nbformat": 4,
 "nbformat_minor": 2
}
