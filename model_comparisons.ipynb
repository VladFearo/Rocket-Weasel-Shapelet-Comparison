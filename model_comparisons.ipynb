{
 "cells": [
  {
   "cell_type": "code",
   "execution_count": 1,
   "metadata": {},
   "outputs": [
    {
     "name": "stdout",
     "output_type": "stream",
     "text": [
      "Requirement already satisfied: sktime in c:\\users\\user\\appdata\\local\\programs\\python\\python311\\lib\\site-packages (0.23.0)\n",
      "Requirement already satisfied: numpy<1.26,>=1.21.0 in c:\\users\\user\\appdata\\local\\programs\\python\\python311\\lib\\site-packages (from sktime) (1.25.2)\n",
      "Requirement already satisfied: pandas<2.2.0,>=1.1.0 in c:\\users\\user\\appdata\\local\\programs\\python\\python311\\lib\\site-packages (from sktime) (2.1.1)\n",
      "Requirement already satisfied: packaging in c:\\users\\user\\appdata\\roaming\\python\\python311\\site-packages (from sktime) (23.1)\n",
      "Requirement already satisfied: scikit-base<0.6.0 in c:\\users\\user\\appdata\\local\\programs\\python\\python311\\lib\\site-packages (from sktime) (0.5.1)\n",
      "Requirement already satisfied: scikit-learn<1.4.0,>=0.24.0 in c:\\users\\user\\appdata\\local\\programs\\python\\python311\\lib\\site-packages (from sktime) (1.3.1)\n",
      "Requirement already satisfied: scipy<2.0.0,>=1.2.0 in c:\\users\\user\\appdata\\local\\programs\\python\\python311\\lib\\site-packages (from sktime) (1.11.2)\n",
      "Requirement already satisfied: python-dateutil>=2.8.2 in c:\\users\\user\\appdata\\roaming\\python\\python311\\site-packages (from pandas<2.2.0,>=1.1.0->sktime) (2.8.2)\n",
      "Requirement already satisfied: pytz>=2020.1 in c:\\users\\user\\appdata\\local\\programs\\python\\python311\\lib\\site-packages (from pandas<2.2.0,>=1.1.0->sktime) (2023.3.post1)\n",
      "Requirement already satisfied: tzdata>=2022.1 in c:\\users\\user\\appdata\\local\\programs\\python\\python311\\lib\\site-packages (from pandas<2.2.0,>=1.1.0->sktime) (2023.3)\n",
      "Requirement already satisfied: joblib>=1.1.1 in c:\\users\\user\\appdata\\local\\programs\\python\\python311\\lib\\site-packages (from scikit-learn<1.4.0,>=0.24.0->sktime) (1.3.2)\n",
      "Requirement already satisfied: threadpoolctl>=2.0.0 in c:\\users\\user\\appdata\\local\\programs\\python\\python311\\lib\\site-packages (from scikit-learn<1.4.0,>=0.24.0->sktime) (3.2.0)\n",
      "Requirement already satisfied: six>=1.5 in c:\\users\\user\\appdata\\roaming\\python\\python311\\site-packages (from python-dateutil>=2.8.2->pandas<2.2.0,>=1.1.0->sktime) (1.16.0)\n",
      "Note: you may need to restart the kernel to use updated packages.\n"
     ]
    }
   ],
   "source": [
    "pip install sktime\n"
   ]
  },
  {
   "cell_type": "code",
   "execution_count": 2,
   "metadata": {},
   "outputs": [
    {
     "name": "stdout",
     "output_type": "stream",
     "text": [
      "Requirement already satisfied: joblib in c:\\users\\user\\appdata\\local\\programs\\python\\python311\\lib\\site-packages (1.3.2)\n",
      "Note: you may need to restart the kernel to use updated packages.\n"
     ]
    }
   ],
   "source": [
    "pip install joblib"
   ]
  },
  {
   "cell_type": "code",
   "execution_count": 1,
   "metadata": {},
   "outputs": [],
   "source": [
    "dataset_names = [\n",
    " 'Adiac',\n",
    " 'ArrowHead',\n",
    " 'Beef',\n",
    " 'BeetleFly',\n",
    " 'BirdChicken',\n",
    " 'CBF',\n",
    " 'Car',\n",
    " 'ChlorineConcentration',\n",
    " 'Coffee',\n",
    " 'Computers',\n",
    " 'DiatomSizeReduction',\n",
    " 'DistalPhalanxOutlineAgeGroup',\n",
    " 'DistalPhalanxOutlineCorrect',\n",
    " 'DistalPhalanxTW',\n",
    " 'ECG200',\n",
    " 'ECG5000',\n",
    " 'ECGFiveDays',\n",
    " 'Earthquakes',\n",
    " 'ElectricDevices',\n",
    " 'FaceAll',\n",
    " 'FaceFour',\n",
    " 'FacesUCR',\n",
    " 'FordA',\n",
    " 'FordB',\n",
    " 'Ham',\n",
    " 'HandOutlines',\n",
    " 'Haptics',\n",
    " 'Herring',\n",
    " 'InlineSkate',\n",
    " 'InsectWingbeatSound',\n",
    " 'ItalyPowerDemand',\n",
    " 'LargeKitchenAppliances',\n",
    " 'Meat',\n",
    " 'MedicalImages',\n",
    " 'MiddlePhalanxOutlineAgeGroup',\n",
    " 'MiddlePhalanxOutlineCorrect',\n",
    " 'MiddlePhalanxTW',\n",
    " 'MoteStrain',\n",
    " 'OSULeaf',\n",
    " 'OliveOil',\n",
    " 'PhalangesOutlinesCorrect',\n",
    " 'Phoneme',\n",
    " 'Plane',\n",
    " 'ProximalPhalanxOutlineAgeGroup',\n",
    " 'ProximalPhalanxOutlineCorrect',\n",
    " 'ProximalPhalanxTW',\n",
    " 'RefrigerationDevices',\n",
    " 'ScreenType',\n",
    " 'ShapeletSim',\n",
    " 'ShapesAll',\n",
    " 'SmallKitchenAppliances',\n",
    " 'StarLightCurves',\n",
    " 'Strawberry',\n",
    " 'SwedishLeaf',\n",
    " 'Symbols',\n",
    " 'ToeSegmentation1',\n",
    " 'ToeSegmentation2',\n",
    " 'Trace',\n",
    " 'TwoLeadECG',\n",
    " 'UWaveGestureLibraryAll',\n",
    " 'Wine',\n",
    " 'Worms',\n",
    " 'WormsTwoClass'\n",
    " ]"
   ]
  },
  {
   "cell_type": "code",
   "execution_count": 6,
   "metadata": {},
   "outputs": [],
   "source": [
    "from sktime.classification.dictionary_based import WEASEL\n",
    "from sktime.classification.shapelet_based import ShapeletTransformClassifier\n",
    "from sktime.classification.kernel_based import RocketClassifier\n",
    "from sktime.datasets import load_UCR_UEA_dataset\n",
    "from sklearn.model_selection import train_test_split\n",
    "from sklearn.metrics import accuracy_score\n",
    "import os\n",
    "import joblib\n",
    "import numpy as np\n",
    "import pandas as pd\n",
    "from sklearn.metrics import accuracy_score, precision_score, recall_score, f1_score\n"
   ]
  },
  {
   "cell_type": "code",
   "execution_count": 5,
   "metadata": {},
   "outputs": [],
   "source": [
    "def save_model(name, database, clf):\n",
    "    # Specify the directory and filename where you want to save the model\n",
    "    save_directory = './model/'\n",
    "    model_filename = f\"{name}-{database}.pkl\" \n",
    "\n",
    "    # Combine the directory and filename to create the full file path\n",
    "    full_model_path = os.path.join(save_directory, model_filename)\n",
    "\n",
    "    # Save the trained model to the specified directory\n",
    "    joblib.dump(clf, full_model_path)\n"
   ]
  },
  {
   "cell_type": "code",
   "execution_count": null,
   "metadata": {},
   "outputs": [],
   "source": [
    "\n",
    "# Initialize empty lists to store the evaluation metrics\n",
    "rocket_scores = []\n",
    "shapelet_scores = []\n",
    "weasel_scores = []\n",
    "\n",
    "# Loop through each dataset\n",
    "# Load the dataset\n",
    "for name in dataset_names:\n",
    "    X, y = load_UCR_UEA_dataset(name, return_X_y=True)\n",
    "\n",
    "    # Split the dataset into training and testing sets\n",
    "    X_train, X_test, y_train, y_test = train_test_split(X, y, test_size=0.3, random_state=42)\n",
    "\n",
    "    # Initialize and train the ROCKET classifier\n",
    "    rocket = RocketClassifier()\n",
    "    rocket.fit(X_train, y_train)\n",
    "    \n",
    "    # Save the trained model\n",
    "    save_model(\"Rocket\", name, rocket)\n",
    "\n",
    "    # Initialize and train the ShapeletTransform classifier\n",
    "    shapelet = ShapeletTransformClassifier()\n",
    "    shapelet.fit(X_train, y_train)\n",
    "    \n",
    "    # Save the trained model\n",
    "    save_model(\"Shapelet\", name, shapelet)\n",
    "\n",
    "    # Initialize and train the WEASEL classifier\n",
    "    weasel = WEASEL()\n",
    "    weasel.fit(X_train, y_train)\n",
    "\n",
    "    # Save the trained model\n",
    "    save_model(\"WEASEL\", name, weasel)\n",
    "    \n",
    "    \n",
    "    # Evaluate the trained classifiers on the testing set\n",
    "    rocket_pred = rocket.predict(X_test)\n",
    "    shapelet_pred = shapelet.predict(X_test)\n",
    "    weasel_pred = weasel.predict(X_test)\n",
    "\n",
    "\n",
    "    # Calculate and store the accuracy scores\n",
    "    rocket_accuracy = accuracy_score(y_test, rocket_pred)\n",
    "    shapelet_accuracy = accuracy_score(y_test, shapelet_pred)\n",
    "    weasel_accuracy = accuracy_score(y_test, weasel_pred)\n",
    "\n",
    "\n",
    "    rocket_scores.append((name, rocket_accuracy))\n",
    "    shapelet_scores.append((name, shapelet_accuracy))\n",
    "    weasel_scores.append((name, weasel_accuracy))\n",
    "\n",
    "#\n",
    "# TODO: Fix these prints to work with tuples and add WEASEL prints\n",
    "# Print the average accuracy scores for each classifier\n",
    "#print(\"Average ROCKET Accuracy:\", sum(rocket_scores) / len(rocket_scores))\n",
    "#print(\"Average ShapeletTransform Accuracy:\", sum(shapelet_scores) / len(shapelet_scores))\n"
   ]
  },
  {
   "cell_type": "code",
   "execution_count": 3,
   "metadata": {},
   "outputs": [],
   "source": [
    "# Define a function to evaluate classifier and return statistics\n",
    "def evaluate_classifier(classifier, X_test, y_test):\n",
    "    y_pred = classifier.predict(X_test)\n",
    "    accuracy = accuracy_score(y_test, y_pred)\n",
    "    precision = precision_score(y_test, y_pred, average='weighted')\n",
    "    recall = recall_score(y_test, y_pred, average='weighted')\n",
    "    f1 = f1_score(y_test, y_pred, average='weighted')\n",
    "    return accuracy, precision, recall, f1"
   ]
  },
  {
   "cell_type": "code",
   "execution_count": null,
   "metadata": {},
   "outputs": [],
   "source": [
    "\n",
    "evals = {     'Rocket': [],\n",
    "              'Shapelet': [],\n",
    "              'WEASEL': [],\n",
    "              }\n",
    "model = 'Rocket'\n",
    "for name in dataset_names:\n",
    "    X_test = np.load(f\"{name}/X_test.npy\", allow_pickle=True)\n",
    "\n",
    "    y_test = np.load(f\"{name}/y_test.npy\", allow_pickle=True)\n",
    "    classifier = joblib.load(f\"{name}/{model}-{name}.pkl\")\n",
    "    accuracy, precision, recall, f1 = evaluate_classifier(classifier, X_test, y_test)\n",
    "    evals[model].append((name, (accuracy, precision, recall, f1)))\n",
    "evals"
   ]
  },
  {
   "cell_type": "code",
   "execution_count": null,
   "metadata": {},
   "outputs": [],
   "source": [
    "\n",
    "import pandas as pd\n",
    "\n",
    "model = 'Shapelet'\n",
    "for name in dataset_names:\n",
    "    X_test = np.load(f\"{name}/X_test.npy\", allow_pickle=True)\n",
    "    y_test = np.load(f\"{name}/y_test.npy\", allow_pickle=True)\n",
    "    X_test = pd.DataFrame(X_test)    \n",
    "    classifier = joblib.load(f\"{name}/{model}-{name}.pkl\")\n",
    "    accuracy, precision, recall, f1 = evaluate_classifier(classifier, X_test, y_test)\n",
    "    evals[model].append((name, (accuracy, precision, recall, f1)))\n",
    "    print(name)\n",
    "evals\n"
   ]
  },
  {
   "cell_type": "code",
   "execution_count": 4,
   "metadata": {},
   "outputs": [],
   "source": [
    "evals = {'Rocket': [('Adiac',\n",
    "   (0.7872340425531915,\n",
    "    0.8260679745786128,\n",
    "    0.7872340425531915,\n",
    "    0.7840465819815006)),\n",
    "  ('ArrowHead', (0.953125, 0.953125, 0.953125, 0.953125)),\n",
    "  ('Beef',\n",
    "   (0.8888888888888888,\n",
    "    0.9166666666666666,\n",
    "    0.8888888888888888,\n",
    "    0.890652557319224)),\n",
    "  ('BeetleFly',\n",
    "   (0.9166666666666666,\n",
    "    0.9285714285714285,\n",
    "    0.9166666666666666,\n",
    "    0.9160839160839161)),\n",
    "  ('BirdChicken',\n",
    "   (0.8333333333333334, 0.875, 0.8333333333333334, 0.8285714285714286)),\n",
    "  ('CBF', (1.0, 1.0, 1.0, 1.0)),\n",
    "  ('Car',\n",
    "   (0.9722222222222222,\n",
    "    0.976190476190476,\n",
    "    0.9722222222222222,\n",
    "    0.9723646723646725)),\n",
    "  ('ChlorineConcentration',\n",
    "   (0.9984532095901005,\n",
    "    0.9984559232574863,\n",
    "    0.9984532095901005,\n",
    "    0.9984536111995296)),\n",
    "  ('Coffee', (1.0, 1.0, 1.0, 1.0)),\n",
    "  ('Computers',\n",
    "   (0.8866666666666667,\n",
    "    0.8908819345661452,\n",
    "    0.8866666666666667,\n",
    "    0.8868431590656284)),\n",
    "  ('DiatomSizeReduction', (1.0, 1.0, 1.0, 1.0)),\n",
    "  ('DistalPhalanxOutlineAgeGroup',\n",
    "   (0.8395061728395061,\n",
    "    0.8614037888463175,\n",
    "    0.8395061728395061,\n",
    "    0.8440676811503071)),\n",
    "  ('DistalPhalanxOutlineCorrect',\n",
    "   (0.8593155893536122,\n",
    "    0.8584559879670537,\n",
    "    0.8593155893536122,\n",
    "    0.8577976277982019)),\n",
    "  ('DistalPhalanxTW',\n",
    "   (0.7962962962962963,\n",
    "    0.7601388334364098,\n",
    "    0.7962962962962963,\n",
    "    0.7721060753647477)),\n",
    "  ('ECG200',\n",
    "   (0.9666666666666667,\n",
    "    0.9682170542635659,\n",
    "    0.9666666666666667,\n",
    "    0.9661375661375662)),\n",
    "  ('ECG5000',\n",
    "   (0.9533333333333334,\n",
    "    0.9485690089442018,\n",
    "    0.9533333333333334,\n",
    "    0.9501545395245139)),\n",
    "  ('ECGFiveDays', (1.0, 1.0, 1.0, 1.0)),\n",
    "  ('Earthquakes',\n",
    "   (0.7841726618705036,\n",
    "    0.721703553187984,\n",
    "    0.7841726618705036,\n",
    "    0.7331391085478726)),\n",
    "  ('ElectricDevices',\n",
    "   (0.9032451923076923,\n",
    "    0.9069445171747882,\n",
    "    0.9032451923076923,\n",
    "    0.9033589844189348)),\n",
    "  ('FaceAll',\n",
    "   (0.9940740740740741,\n",
    "    0.9942513338513338,\n",
    "    0.9940740740740741,\n",
    "    0.994111884609984)),\n",
    "  ('FaceFour', (1.0, 1.0, 1.0, 1.0)),\n",
    "  ('FacesUCR',\n",
    "   (0.9955555555555555,\n",
    "    0.9956028941068883,\n",
    "    0.9955555555555555,\n",
    "    0.9955442643399021)),\n",
    "  ('FordA',\n",
    "   (0.933649289099526,\n",
    "    0.9336860990747092,\n",
    "    0.933649289099526,\n",
    "    0.9336402806733434)),\n",
    "  ('FordB',\n",
    "   (0.9190404797601199,\n",
    "    0.9195923488284546,\n",
    "    0.9190404797601199,\n",
    "    0.919018637622772)),\n",
    "  ('Ham',\n",
    "   (0.8307692307692308,\n",
    "    0.8438330170777988,\n",
    "    0.8307692307692308,\n",
    "    0.8323960586397502)),\n",
    "  ('HandOutlines',\n",
    "   (0.9416058394160584,\n",
    "    0.9417523144051531,\n",
    "    0.9416058394160584,\n",
    "    0.9410434192315452)),\n",
    "  ('Haptics',\n",
    "   (0.6258992805755396,\n",
    "    0.6254323952165679,\n",
    "    0.6258992805755396,\n",
    "    0.6191674722415234)),\n",
    "  ('Herring',\n",
    "   (0.6666666666666666,\n",
    "    0.6604938271604939,\n",
    "    0.6666666666666666,\n",
    "    0.6631446540880503)),\n",
    "  ('InlineSkate',\n",
    "   (0.7589743589743589,\n",
    "    0.7659969146545315,\n",
    "    0.7589743589743589,\n",
    "    0.7591371982141213)),\n",
    "  ('InsectWingbeatSound',\n",
    "   (0.7484848484848485,\n",
    "    0.7509760214142114,\n",
    "    0.7484848484848485,\n",
    "    0.7451595282196757)),\n",
    "  ('ItalyPowerDemand',\n",
    "   (0.9574468085106383,\n",
    "    0.9574468085106383,\n",
    "    0.9574468085106383,\n",
    "    0.9574468085106383)),\n",
    "  ('LargeKitchenAppliances',\n",
    "   (0.9244444444444444,\n",
    "    0.9253983443457128,\n",
    "    0.9244444444444444,\n",
    "    0.9241954797150427)),\n",
    "  ('Meat',\n",
    "   (0.9444444444444444,\n",
    "    0.9523809523809523,\n",
    "    0.9444444444444444,\n",
    "    0.9444444444444444)),\n",
    "  ('MedicalImages',\n",
    "   (0.880466472303207,\n",
    "    0.8836373972306703,\n",
    "    0.880466472303207,\n",
    "    0.8741638262619463)),\n",
    "  ('MiddlePhalanxOutlineAgeGroup',\n",
    "   (0.688622754491018,\n",
    "    0.6841127870840598,\n",
    "    0.688622754491018,\n",
    "    0.6751035743638772)),\n",
    "  ('MiddlePhalanxOutlineCorrect',\n",
    "   (0.8656716417910447,\n",
    "    0.8662974990391769,\n",
    "    0.8656716417910447,\n",
    "    0.8659344529501657)),\n",
    "  ('MiddlePhalanxTW',\n",
    "   (0.5542168674698795,\n",
    "    0.5008035213048816,\n",
    "    0.5542168674698795,\n",
    "    0.5139054679709589)),\n",
    "  ('MoteStrain',\n",
    "   (0.981675392670157,\n",
    "    0.9817912893919601,\n",
    "    0.981675392670157,\n",
    "    0.9816727546804129)),\n",
    "  ('OSULeaf',\n",
    "   (0.9699248120300752,\n",
    "    0.9724696356275305,\n",
    "    0.9699248120300752,\n",
    "    0.9700380983418299)),\n",
    "  ('OliveOil',\n",
    "   (0.9444444444444444,\n",
    "    0.9583333333333334,\n",
    "    0.9444444444444444,\n",
    "    0.9458874458874459)),\n",
    "  ('PhalangesOutlinesCorrect',\n",
    "   (0.8458646616541353,\n",
    "    0.8462324484537334,\n",
    "    0.8458646616541353,\n",
    "    0.84178711224904)),\n",
    "  ('Phoneme',\n",
    "   (0.41390205371248023,\n",
    "    0.4263098651265666,\n",
    "    0.41390205371248023,\n",
    "    0.383948695935011)),\n",
    "  ('Plane', (1.0, 1.0, 1.0, 1.0)),\n",
    "  ('ProximalPhalanxOutlineAgeGroup',\n",
    "   (0.8571428571428571,\n",
    "    0.8571428571428571,\n",
    "    0.8571428571428571,\n",
    "    0.8571428571428571)),\n",
    "  ('ProximalPhalanxOutlineCorrect',\n",
    "   (0.9216417910447762,\n",
    "    0.9219807407064059,\n",
    "    0.9216417910447762,\n",
    "    0.9206318391518166)),\n",
    "  ('ProximalPhalanxTW',\n",
    "   (0.8516483516483516,\n",
    "    0.8264892842854163,\n",
    "    0.8516483516483516,\n",
    "    0.8328138188330549)),\n",
    "  ('RefrigerationDevices',\n",
    "   (0.7955555555555556,\n",
    "    0.8006515295404185,\n",
    "    0.7955555555555556,\n",
    "    0.7970359774417745)),\n",
    "  ('ScreenType',\n",
    "   (0.6666666666666666,\n",
    "    0.6674817674817675,\n",
    "    0.6666666666666666,\n",
    "    0.6658939946583259)),\n",
    "  ('ShapeletSim', (1.0, 1.0, 1.0, 1.0)),\n",
    "  ('ShapesAll', (0.925, 0.9409446649029983, 0.925, 0.919546253635521)),\n",
    "  ('SmallKitchenAppliances',\n",
    "   (0.8533333333333334,\n",
    "    0.8597265315101353,\n",
    "    0.8533333333333334,\n",
    "    0.8521345704391464)),\n",
    "  ('StarLightCurves',\n",
    "   (0.9790689281847709,\n",
    "    0.9793014242423079,\n",
    "    0.9790689281847709,\n",
    "    0.9785875218733016)),\n",
    "  ('Strawberry',\n",
    "   (0.9796610169491525,\n",
    "    0.9801808106744997,\n",
    "    0.9796610169491525,\n",
    "    0.9797314730282224)),\n",
    "  ('SwedishLeaf',\n",
    "   (0.9733727810650887,\n",
    "    0.9758382642998029,\n",
    "    0.9733727810650887,\n",
    "    0.9736186163016122)),\n",
    "  ('Symbols',\n",
    "   (0.9967320261437909,\n",
    "    0.9968098350451291,\n",
    "    0.9967320261437909,\n",
    "    0.9967375041513027)),\n",
    "  ('ToeSegmentation1',\n",
    "   (0.9876543209876543,\n",
    "    0.9879792072774529,\n",
    "    0.9876543209876543,\n",
    "    0.9876656733361715)),\n",
    "  ('ToeSegmentation2', (0.96, 0.96, 0.96, 0.96)),\n",
    "  ('Trace', (1.0, 1.0, 1.0, 1.0)),\n",
    "  ('TwoLeadECG', (1.0, 1.0, 1.0, 1.0)),\n",
    "  ('UWaveGestureLibraryAll',\n",
    "   (0.9813988095238095,\n",
    "    0.9818165949379593,\n",
    "    0.9813988095238095,\n",
    "    0.9813267036913225)),\n",
    "  ('Wine', (1.0, 1.0, 1.0, 1.0)),\n",
    "  ('Worms',\n",
    "   (0.6282051282051282,\n",
    "    0.6633921633921633,\n",
    "    0.6282051282051282,\n",
    "    0.6199304968535737)),\n",
    "  ('WormsTwoClass',\n",
    "   (0.7307692307692307,\n",
    "    0.7292264385860445,\n",
    "    0.7307692307692307,\n",
    "    0.7298754015510962))],\n",
    " 'Shapelet': [('Adiac',\n",
    "   (0.7829787234042553,\n",
    "    0.7779796444690061,\n",
    "    0.7829787234042553,\n",
    "    0.768527957927207)),\n",
    "  ('ArrowHead', (0.921875, 0.9253624512670564, 0.921875, 0.9225515288015288)),\n",
    "  ('Beef',\n",
    "   (0.7222222222222222,\n",
    "    0.6574074074074074,\n",
    "    0.7222222222222222,\n",
    "    0.6767676767676767)),\n",
    "  ('BeetleFly',\n",
    "   (0.9166666666666666,\n",
    "    0.9285714285714285,\n",
    "    0.9166666666666666,\n",
    "    0.9160839160839161)),\n",
    "  ('BirdChicken',\n",
    "   (0.9166666666666666,\n",
    "    0.9285714285714285,\n",
    "    0.9166666666666666,\n",
    "    0.9160839160839161)),\n",
    "  ('CBF', (1.0, 1.0, 1.0, 1.0)),\n",
    "  ('Car',\n",
    "   (0.9444444444444444,\n",
    "    0.9583333333333334,\n",
    "    0.9444444444444444,\n",
    "    0.9468253968253969)),\n",
    "  ('ChlorineConcentration',\n",
    "   (0.9961330239752514,\n",
    "    0.9961606058299214,\n",
    "    0.9961330239752514,\n",
    "    0.9961313055028562)),\n",
    "  ('Coffee', (1.0, 1.0, 1.0, 1.0)),\n",
    "  ('Computers', (0.82, 0.823, 0.82, 0.8184577723378212)),\n",
    "  ('DiatomSizeReduction', (1.0, 1.0, 1.0, 1.0)),\n",
    "  ('DistalPhalanxOutlineAgeGroup',\n",
    "   (0.8703703703703703,\n",
    "    0.8932120850725501,\n",
    "    0.8703703703703703,\n",
    "    0.8741892859042617)),\n",
    "  ('DistalPhalanxOutlineCorrect',\n",
    "   (0.8593155893536122,\n",
    "    0.8590452122472092,\n",
    "    0.8593155893536122,\n",
    "    0.8591673743110225)),\n",
    "  ('DistalPhalanxTW',\n",
    "   (0.7962962962962963,\n",
    "    0.7577931202592448,\n",
    "    0.7962962962962963,\n",
    "    0.7697104301883121)),\n",
    "  ('ECG200', (0.95, 0.95125, 0.95, 0.950332383665717)),\n",
    "  ('ECG5000',\n",
    "   (0.9553333333333334,\n",
    "    0.9494480167076739,\n",
    "    0.9553333333333334,\n",
    "    0.9493004206875356)),\n",
    "  ('ECGFiveDays', (1.0, 1.0, 1.0, 1.0)),\n",
    "  ('Earthquakes',\n",
    "   (0.7913669064748201,\n",
    "    0.6365342508601814,\n",
    "    0.7913669064748201,\n",
    "    0.7055560370980324)),\n",
    "  ('ElectricDevices',\n",
    "   (0.8934294871794872,\n",
    "    0.8960792405224638,\n",
    "    0.8934294871794872,\n",
    "    0.8925269024824336)),\n",
    "  ('FaceAll',\n",
    "   (0.965925925925926,\n",
    "    0.9668626881968068,\n",
    "    0.965925925925926,\n",
    "    0.9656802759617895)),\n",
    "  ('FaceFour', (1.0, 1.0, 1.0, 1.0)),\n",
    "  ('FacesUCR',\n",
    "   (0.9777777777777777,\n",
    "    0.9784316253516468,\n",
    "    0.9777777777777777,\n",
    "    0.9778170440888279)),\n",
    "  ('FordA',\n",
    "   (0.940419769803656,\n",
    "    0.9404198319056236,\n",
    "    0.940419769803656,\n",
    "    0.9404180757614283)),\n",
    "  ('FordB',\n",
    "   (0.9122938530734632,\n",
    "    0.91279365941984,\n",
    "    0.9122938530734632,\n",
    "    0.91227231097931)),\n",
    "  ('Ham',\n",
    "   (0.8461538461538461,\n",
    "    0.8552380952380954,\n",
    "    0.8461538461538461,\n",
    "    0.8474903474903475)),\n",
    "  ('HandOutlines',\n",
    "   (0.9099756690997567,\n",
    "    0.909383252507811,\n",
    "    0.9099756690997567,\n",
    "    0.9093848356317098)),\n",
    "  ('Haptics',\n",
    "   (0.6258992805755396,\n",
    "    0.6237678355818708,\n",
    "    0.6258992805755396,\n",
    "    0.6166583149771557)),\n",
    "  ('Herring',\n",
    "   (0.717948717948718,\n",
    "    0.7057471264367816,\n",
    "    0.717948717948718,\n",
    "    0.7072463768115943)),\n",
    "  ('InlineSkate',\n",
    "   (0.676923076923077,\n",
    "    0.6959406595207812,\n",
    "    0.676923076923077,\n",
    "    0.68127441572512)),\n",
    "  ('InsectWingbeatSound',\n",
    "   (0.7181818181818181,\n",
    "    0.722725281247448,\n",
    "    0.7181818181818181,\n",
    "    0.7152314080083971)),\n",
    "  ('ItalyPowerDemand',\n",
    "   (0.9513677811550152,\n",
    "    0.9516100057674671,\n",
    "    0.9513677811550152,\n",
    "    0.9513479900189703)),\n",
    "  ('LargeKitchenAppliances',\n",
    "   (0.8933333333333333,\n",
    "    0.8968556531214759,\n",
    "    0.8933333333333333,\n",
    "    0.893442208765352)),\n",
    "  ('Meat',\n",
    "   (0.9722222222222222,\n",
    "    0.9743589743589745,\n",
    "    0.9722222222222222,\n",
    "    0.9722633744855967)),\n",
    "  ('MedicalImages',\n",
    "   (0.8629737609329446,\n",
    "    0.8571469723592543,\n",
    "    0.8629737609329446,\n",
    "    0.8513510836121044)),\n",
    "  ('MiddlePhalanxOutlineAgeGroup',\n",
    "   (0.7305389221556886,\n",
    "    0.759531636028642,\n",
    "    0.7305389221556886,\n",
    "    0.7150956074242933)),\n",
    "  ('MiddlePhalanxOutlineCorrect',\n",
    "   (0.8582089552238806,\n",
    "    0.8577162208166849,\n",
    "    0.8582089552238806,\n",
    "    0.8579123389685962)),\n",
    "  ('MiddlePhalanxTW',\n",
    "   (0.5903614457831325,\n",
    "    0.5248042862695019,\n",
    "    0.5903614457831325,\n",
    "    0.5390592162385217)),\n",
    "  ('MoteStrain',\n",
    "   (0.9895287958115183,\n",
    "    0.9895836188700968,\n",
    "    0.9895287958115183,\n",
    "    0.9895290828511069)),\n",
    "  ('OSULeaf',\n",
    "   (0.9398496240601504,\n",
    "    0.9453178400546822,\n",
    "    0.9398496240601504,\n",
    "    0.9383458646616543)),\n",
    "  ('OliveOil',\n",
    "   (0.8333333333333334,\n",
    "    0.8333333333333334,\n",
    "    0.8333333333333334,\n",
    "    0.8333333333333334)),\n",
    "  ('PhalangesOutlinesCorrect',\n",
    "   (0.8483709273182958,\n",
    "    0.8472221328443457,\n",
    "    0.8483709273182958,\n",
    "    0.8457715412581239)),\n",
    "  ('Phoneme',\n",
    "   (0.4881516587677725,\n",
    "    0.4949508062472106,\n",
    "    0.4881516587677725,\n",
    "    0.4514840638147667)),\n",
    "  ('Plane', (1.0, 1.0, 1.0, 1.0)),\n",
    "  ('ProximalPhalanxOutlineAgeGroup',\n",
    "   (0.8681318681318682,\n",
    "    0.8691152691152692,\n",
    "    0.8681318681318682,\n",
    "    0.8678337528741269)),\n",
    "  ('ProximalPhalanxOutlineCorrect',\n",
    "   (0.8917910447761194,\n",
    "    0.8923586852969198,\n",
    "    0.8917910447761194,\n",
    "    0.8896630163090818)),\n",
    "  ('ProximalPhalanxTW',\n",
    "   (0.7912087912087912,\n",
    "    0.7642187311275151,\n",
    "    0.7912087912087912,\n",
    "    0.7726733274636076)),\n",
    "  ('RefrigerationDevices',\n",
    "   (0.7955555555555556,\n",
    "    0.7961132201132202,\n",
    "    0.7955555555555556,\n",
    "    0.7954476506357102)),\n",
    "  ('ScreenType',\n",
    "   (0.7066666666666667,\n",
    "    0.7126167166167167,\n",
    "    0.7066666666666667,\n",
    "    0.7067812725090036)),\n",
    "  ('ShapeletSim', (1.0, 1.0, 1.0, 1.0)),\n",
    "  ('ShapesAll',\n",
    "   (0.8583333333333333,\n",
    "    0.8778122494789162,\n",
    "    0.8583333333333333,\n",
    "    0.8509492726056195)),\n",
    "  ('SmallKitchenAppliances',\n",
    "   (0.84, 0.8454100911424297, 0.84, 0.8394739552386611)),\n",
    "  ('StarLightCurves',\n",
    "   (0.9779862865391555,\n",
    "    0.978134793903615,\n",
    "    0.9779862865391555,\n",
    "    0.9774919179425616)),\n",
    "  ('Strawberry',\n",
    "   (0.9864406779661017,\n",
    "    0.9869164436515017,\n",
    "    0.9864406779661017,\n",
    "    0.9864876486854814)),\n",
    "  ('SwedishLeaf',\n",
    "   (0.9437869822485208,\n",
    "    0.9455746522106417,\n",
    "    0.9437869822485208,\n",
    "    0.9436048141369493)),\n",
    "  ('Symbols',\n",
    "   (0.9901960784313726,\n",
    "    0.990678238508518,\n",
    "    0.9901960784313726,\n",
    "    0.9901335068651437)),\n",
    "  ('ToeSegmentation1',\n",
    "   (0.9876543209876543,\n",
    "    0.9879792072774529,\n",
    "    0.9876543209876543,\n",
    "    0.9876656733361715)),\n",
    "  ('ToeSegmentation2', (0.92, 0.9274603174603174, 0.92, 0.921995841995842)),\n",
    "  ('Trace', (1.0, 1.0, 1.0, 1.0)),\n",
    "  ('TwoLeadECG', (1.0, 1.0, 1.0, 1.0)),\n",
    "  ('UWaveGestureLibraryAll',\n",
    "   (0.9724702380952381,\n",
    "    0.9726642477685852,\n",
    "    0.9724702380952381,\n",
    "    0.9723117262593013)),\n",
    "  ('Wine',\n",
    "   (0.9705882352941176,\n",
    "    0.972549019607843,\n",
    "    0.9705882352941176,\n",
    "    0.9707182607791127)),\n",
    "  ('Worms',\n",
    "   (0.6153846153846154,\n",
    "    0.5602389063927525,\n",
    "    0.6153846153846154,\n",
    "    0.5753147112796235)),\n",
    "  ('WormsTwoClass',\n",
    "   (0.7307692307692307,\n",
    "    0.732590676310649,\n",
    "    0.7307692307692307,\n",
    "    0.7315590363045066))],\n",
    " 'WEASEL': []}"
   ]
  },
  {
   "cell_type": "code",
   "execution_count": 8,
   "metadata": {},
   "outputs": [
    {
     "name": "stderr",
     "output_type": "stream",
     "text": [
      "c:\\Users\\user\\AppData\\Local\\Programs\\Python\\Python311\\Lib\\site-packages\\sktime\\datatypes\\_panel\\_convert.py:74: FutureWarning: DataFrame.applymap has been deprecated. Use DataFrame.map instead.\n",
      "  return X.applymap(_cell_is_series_or_array)\n",
      "c:\\Users\\user\\AppData\\Local\\Programs\\Python\\Python311\\Lib\\site-packages\\sktime\\datatypes\\_panel\\_convert.py:889: FutureWarning: DataFrame.applymap has been deprecated. Use DataFrame.map instead.\n",
      "  X.applymap(_convert_series_cell_to_numpy)\n",
      "c:\\Users\\user\\AppData\\Local\\Programs\\Python\\Python311\\Lib\\site-packages\\sklearn\\metrics\\_classification.py:1469: UndefinedMetricWarning: Precision is ill-defined and being set to 0.0 in labels with no predicted samples. Use `zero_division` parameter to control this behavior.\n",
      "  _warn_prf(average, modifier, msg_start, len(result))\n",
      "c:\\Users\\user\\AppData\\Local\\Programs\\Python\\Python311\\Lib\\site-packages\\sktime\\datatypes\\_panel\\_convert.py:74: FutureWarning: DataFrame.applymap has been deprecated. Use DataFrame.map instead.\n",
      "  return X.applymap(_cell_is_series_or_array)\n",
      "c:\\Users\\user\\AppData\\Local\\Programs\\Python\\Python311\\Lib\\site-packages\\sktime\\datatypes\\_panel\\_convert.py:889: FutureWarning: DataFrame.applymap has been deprecated. Use DataFrame.map instead.\n",
      "  X.applymap(_convert_series_cell_to_numpy)\n"
     ]
    },
    {
     "name": "stdout",
     "output_type": "stream",
     "text": [
      "Adiac\n",
      "ArrowHead\n"
     ]
    },
    {
     "name": "stderr",
     "output_type": "stream",
     "text": [
      "c:\\Users\\user\\AppData\\Local\\Programs\\Python\\Python311\\Lib\\site-packages\\sktime\\datatypes\\_panel\\_convert.py:74: FutureWarning: DataFrame.applymap has been deprecated. Use DataFrame.map instead.\n",
      "  return X.applymap(_cell_is_series_or_array)\n",
      "c:\\Users\\user\\AppData\\Local\\Programs\\Python\\Python311\\Lib\\site-packages\\sktime\\datatypes\\_panel\\_convert.py:889: FutureWarning: DataFrame.applymap has been deprecated. Use DataFrame.map instead.\n",
      "  X.applymap(_convert_series_cell_to_numpy)\n",
      "c:\\Users\\user\\AppData\\Local\\Programs\\Python\\Python311\\Lib\\site-packages\\sklearn\\metrics\\_classification.py:1469: UndefinedMetricWarning: Precision is ill-defined and being set to 0.0 in labels with no predicted samples. Use `zero_division` parameter to control this behavior.\n",
      "  _warn_prf(average, modifier, msg_start, len(result))\n"
     ]
    },
    {
     "name": "stdout",
     "output_type": "stream",
     "text": [
      "Beef\n",
      "BeetleFly\n"
     ]
    },
    {
     "name": "stderr",
     "output_type": "stream",
     "text": [
      "c:\\Users\\user\\AppData\\Local\\Programs\\Python\\Python311\\Lib\\site-packages\\sktime\\datatypes\\_panel\\_convert.py:74: FutureWarning: DataFrame.applymap has been deprecated. Use DataFrame.map instead.\n",
      "  return X.applymap(_cell_is_series_or_array)\n",
      "c:\\Users\\user\\AppData\\Local\\Programs\\Python\\Python311\\Lib\\site-packages\\sktime\\datatypes\\_panel\\_convert.py:889: FutureWarning: DataFrame.applymap has been deprecated. Use DataFrame.map instead.\n",
      "  X.applymap(_convert_series_cell_to_numpy)\n",
      "c:\\Users\\user\\AppData\\Local\\Programs\\Python\\Python311\\Lib\\site-packages\\sktime\\datatypes\\_panel\\_convert.py:74: FutureWarning: DataFrame.applymap has been deprecated. Use DataFrame.map instead.\n",
      "  return X.applymap(_cell_is_series_or_array)\n",
      "c:\\Users\\user\\AppData\\Local\\Programs\\Python\\Python311\\Lib\\site-packages\\sktime\\datatypes\\_panel\\_convert.py:889: FutureWarning: DataFrame.applymap has been deprecated. Use DataFrame.map instead.\n",
      "  X.applymap(_convert_series_cell_to_numpy)\n"
     ]
    },
    {
     "name": "stdout",
     "output_type": "stream",
     "text": [
      "BirdChicken\n"
     ]
    },
    {
     "name": "stderr",
     "output_type": "stream",
     "text": [
      "c:\\Users\\user\\AppData\\Local\\Programs\\Python\\Python311\\Lib\\site-packages\\sktime\\datatypes\\_panel\\_convert.py:74: FutureWarning: DataFrame.applymap has been deprecated. Use DataFrame.map instead.\n",
      "  return X.applymap(_cell_is_series_or_array)\n",
      "c:\\Users\\user\\AppData\\Local\\Programs\\Python\\Python311\\Lib\\site-packages\\sktime\\datatypes\\_panel\\_convert.py:889: FutureWarning: DataFrame.applymap has been deprecated. Use DataFrame.map instead.\n",
      "  X.applymap(_convert_series_cell_to_numpy)\n"
     ]
    },
    {
     "name": "stdout",
     "output_type": "stream",
     "text": [
      "CBF\n"
     ]
    },
    {
     "name": "stderr",
     "output_type": "stream",
     "text": [
      "c:\\Users\\user\\AppData\\Local\\Programs\\Python\\Python311\\Lib\\site-packages\\sktime\\datatypes\\_panel\\_convert.py:74: FutureWarning: DataFrame.applymap has been deprecated. Use DataFrame.map instead.\n",
      "  return X.applymap(_cell_is_series_or_array)\n",
      "c:\\Users\\user\\AppData\\Local\\Programs\\Python\\Python311\\Lib\\site-packages\\sktime\\datatypes\\_panel\\_convert.py:889: FutureWarning: DataFrame.applymap has been deprecated. Use DataFrame.map instead.\n",
      "  X.applymap(_convert_series_cell_to_numpy)\n"
     ]
    },
    {
     "name": "stdout",
     "output_type": "stream",
     "text": [
      "Car\n"
     ]
    },
    {
     "name": "stderr",
     "output_type": "stream",
     "text": [
      "c:\\Users\\user\\AppData\\Local\\Programs\\Python\\Python311\\Lib\\site-packages\\sktime\\datatypes\\_panel\\_convert.py:74: FutureWarning: DataFrame.applymap has been deprecated. Use DataFrame.map instead.\n",
      "  return X.applymap(_cell_is_series_or_array)\n",
      "c:\\Users\\user\\AppData\\Local\\Programs\\Python\\Python311\\Lib\\site-packages\\sktime\\datatypes\\_panel\\_convert.py:889: FutureWarning: DataFrame.applymap has been deprecated. Use DataFrame.map instead.\n",
      "  X.applymap(_convert_series_cell_to_numpy)\n"
     ]
    },
    {
     "name": "stdout",
     "output_type": "stream",
     "text": [
      "ChlorineConcentration\n",
      "Coffee\n"
     ]
    },
    {
     "name": "stderr",
     "output_type": "stream",
     "text": [
      "c:\\Users\\user\\AppData\\Local\\Programs\\Python\\Python311\\Lib\\site-packages\\sktime\\datatypes\\_panel\\_convert.py:74: FutureWarning: DataFrame.applymap has been deprecated. Use DataFrame.map instead.\n",
      "  return X.applymap(_cell_is_series_or_array)\n",
      "c:\\Users\\user\\AppData\\Local\\Programs\\Python\\Python311\\Lib\\site-packages\\sktime\\datatypes\\_panel\\_convert.py:889: FutureWarning: DataFrame.applymap has been deprecated. Use DataFrame.map instead.\n",
      "  X.applymap(_convert_series_cell_to_numpy)\n",
      "c:\\Users\\user\\AppData\\Local\\Programs\\Python\\Python311\\Lib\\site-packages\\sktime\\datatypes\\_panel\\_convert.py:74: FutureWarning: DataFrame.applymap has been deprecated. Use DataFrame.map instead.\n",
      "  return X.applymap(_cell_is_series_or_array)\n",
      "c:\\Users\\user\\AppData\\Local\\Programs\\Python\\Python311\\Lib\\site-packages\\sktime\\datatypes\\_panel\\_convert.py:889: FutureWarning: DataFrame.applymap has been deprecated. Use DataFrame.map instead.\n",
      "  X.applymap(_convert_series_cell_to_numpy)\n"
     ]
    },
    {
     "name": "stdout",
     "output_type": "stream",
     "text": [
      "Computers\n"
     ]
    },
    {
     "name": "stderr",
     "output_type": "stream",
     "text": [
      "c:\\Users\\user\\AppData\\Local\\Programs\\Python\\Python311\\Lib\\site-packages\\sktime\\datatypes\\_panel\\_convert.py:74: FutureWarning: DataFrame.applymap has been deprecated. Use DataFrame.map instead.\n",
      "  return X.applymap(_cell_is_series_or_array)\n",
      "c:\\Users\\user\\AppData\\Local\\Programs\\Python\\Python311\\Lib\\site-packages\\sktime\\datatypes\\_panel\\_convert.py:889: FutureWarning: DataFrame.applymap has been deprecated. Use DataFrame.map instead.\n",
      "  X.applymap(_convert_series_cell_to_numpy)\n"
     ]
    },
    {
     "name": "stdout",
     "output_type": "stream",
     "text": [
      "DiatomSizeReduction\n"
     ]
    },
    {
     "name": "stderr",
     "output_type": "stream",
     "text": [
      "c:\\Users\\user\\AppData\\Local\\Programs\\Python\\Python311\\Lib\\site-packages\\sktime\\datatypes\\_panel\\_convert.py:74: FutureWarning: DataFrame.applymap has been deprecated. Use DataFrame.map instead.\n",
      "  return X.applymap(_cell_is_series_or_array)\n",
      "c:\\Users\\user\\AppData\\Local\\Programs\\Python\\Python311\\Lib\\site-packages\\sktime\\datatypes\\_panel\\_convert.py:889: FutureWarning: DataFrame.applymap has been deprecated. Use DataFrame.map instead.\n",
      "  X.applymap(_convert_series_cell_to_numpy)\n"
     ]
    },
    {
     "name": "stdout",
     "output_type": "stream",
     "text": [
      "DistalPhalanxOutlineAgeGroup\n"
     ]
    },
    {
     "name": "stderr",
     "output_type": "stream",
     "text": [
      "c:\\Users\\user\\AppData\\Local\\Programs\\Python\\Python311\\Lib\\site-packages\\sktime\\datatypes\\_panel\\_convert.py:74: FutureWarning: DataFrame.applymap has been deprecated. Use DataFrame.map instead.\n",
      "  return X.applymap(_cell_is_series_or_array)\n",
      "c:\\Users\\user\\AppData\\Local\\Programs\\Python\\Python311\\Lib\\site-packages\\sktime\\datatypes\\_panel\\_convert.py:889: FutureWarning: DataFrame.applymap has been deprecated. Use DataFrame.map instead.\n",
      "  X.applymap(_convert_series_cell_to_numpy)\n"
     ]
    },
    {
     "name": "stdout",
     "output_type": "stream",
     "text": [
      "DistalPhalanxOutlineCorrect\n"
     ]
    },
    {
     "name": "stderr",
     "output_type": "stream",
     "text": [
      "c:\\Users\\user\\AppData\\Local\\Programs\\Python\\Python311\\Lib\\site-packages\\sktime\\datatypes\\_panel\\_convert.py:74: FutureWarning: DataFrame.applymap has been deprecated. Use DataFrame.map instead.\n",
      "  return X.applymap(_cell_is_series_or_array)\n",
      "c:\\Users\\user\\AppData\\Local\\Programs\\Python\\Python311\\Lib\\site-packages\\sktime\\datatypes\\_panel\\_convert.py:889: FutureWarning: DataFrame.applymap has been deprecated. Use DataFrame.map instead.\n",
      "  X.applymap(_convert_series_cell_to_numpy)\n"
     ]
    },
    {
     "name": "stdout",
     "output_type": "stream",
     "text": [
      "DistalPhalanxTW\n",
      "ECG200\n"
     ]
    },
    {
     "name": "stderr",
     "output_type": "stream",
     "text": [
      "c:\\Users\\user\\AppData\\Local\\Programs\\Python\\Python311\\Lib\\site-packages\\sktime\\datatypes\\_panel\\_convert.py:74: FutureWarning: DataFrame.applymap has been deprecated. Use DataFrame.map instead.\n",
      "  return X.applymap(_cell_is_series_or_array)\n",
      "c:\\Users\\user\\AppData\\Local\\Programs\\Python\\Python311\\Lib\\site-packages\\sktime\\datatypes\\_panel\\_convert.py:889: FutureWarning: DataFrame.applymap has been deprecated. Use DataFrame.map instead.\n",
      "  X.applymap(_convert_series_cell_to_numpy)\n",
      "c:\\Users\\user\\AppData\\Local\\Programs\\Python\\Python311\\Lib\\site-packages\\sktime\\datatypes\\_panel\\_convert.py:74: FutureWarning: DataFrame.applymap has been deprecated. Use DataFrame.map instead.\n",
      "  return X.applymap(_cell_is_series_or_array)\n",
      "c:\\Users\\user\\AppData\\Local\\Programs\\Python\\Python311\\Lib\\site-packages\\sktime\\datatypes\\_panel\\_convert.py:889: FutureWarning: DataFrame.applymap has been deprecated. Use DataFrame.map instead.\n",
      "  X.applymap(_convert_series_cell_to_numpy)\n"
     ]
    },
    {
     "name": "stdout",
     "output_type": "stream",
     "text": [
      "ECG5000\n"
     ]
    },
    {
     "name": "stderr",
     "output_type": "stream",
     "text": [
      "c:\\Users\\user\\AppData\\Local\\Programs\\Python\\Python311\\Lib\\site-packages\\sktime\\datatypes\\_panel\\_convert.py:74: FutureWarning: DataFrame.applymap has been deprecated. Use DataFrame.map instead.\n",
      "  return X.applymap(_cell_is_series_or_array)\n",
      "c:\\Users\\user\\AppData\\Local\\Programs\\Python\\Python311\\Lib\\site-packages\\sktime\\datatypes\\_panel\\_convert.py:889: FutureWarning: DataFrame.applymap has been deprecated. Use DataFrame.map instead.\n",
      "  X.applymap(_convert_series_cell_to_numpy)\n"
     ]
    },
    {
     "name": "stdout",
     "output_type": "stream",
     "text": [
      "ECGFiveDays\n"
     ]
    },
    {
     "name": "stderr",
     "output_type": "stream",
     "text": [
      "c:\\Users\\user\\AppData\\Local\\Programs\\Python\\Python311\\Lib\\site-packages\\sktime\\datatypes\\_panel\\_convert.py:74: FutureWarning: DataFrame.applymap has been deprecated. Use DataFrame.map instead.\n",
      "  return X.applymap(_cell_is_series_or_array)\n",
      "c:\\Users\\user\\AppData\\Local\\Programs\\Python\\Python311\\Lib\\site-packages\\sktime\\datatypes\\_panel\\_convert.py:889: FutureWarning: DataFrame.applymap has been deprecated. Use DataFrame.map instead.\n",
      "  X.applymap(_convert_series_cell_to_numpy)\n"
     ]
    },
    {
     "name": "stdout",
     "output_type": "stream",
     "text": [
      "Earthquakes\n"
     ]
    },
    {
     "name": "stderr",
     "output_type": "stream",
     "text": [
      "c:\\Users\\user\\AppData\\Local\\Programs\\Python\\Python311\\Lib\\site-packages\\sktime\\datatypes\\_panel\\_convert.py:74: FutureWarning: DataFrame.applymap has been deprecated. Use DataFrame.map instead.\n",
      "  return X.applymap(_cell_is_series_or_array)\n",
      "c:\\Users\\user\\AppData\\Local\\Programs\\Python\\Python311\\Lib\\site-packages\\sktime\\datatypes\\_panel\\_convert.py:889: FutureWarning: DataFrame.applymap has been deprecated. Use DataFrame.map instead.\n",
      "  X.applymap(_convert_series_cell_to_numpy)\n"
     ]
    },
    {
     "name": "stdout",
     "output_type": "stream",
     "text": [
      "ElectricDevices\n"
     ]
    },
    {
     "name": "stderr",
     "output_type": "stream",
     "text": [
      "c:\\Users\\user\\AppData\\Local\\Programs\\Python\\Python311\\Lib\\site-packages\\sktime\\datatypes\\_panel\\_convert.py:74: FutureWarning: DataFrame.applymap has been deprecated. Use DataFrame.map instead.\n",
      "  return X.applymap(_cell_is_series_or_array)\n",
      "c:\\Users\\user\\AppData\\Local\\Programs\\Python\\Python311\\Lib\\site-packages\\sktime\\datatypes\\_panel\\_convert.py:889: FutureWarning: DataFrame.applymap has been deprecated. Use DataFrame.map instead.\n",
      "  X.applymap(_convert_series_cell_to_numpy)\n"
     ]
    },
    {
     "name": "stdout",
     "output_type": "stream",
     "text": [
      "FaceAll\n"
     ]
    },
    {
     "name": "stderr",
     "output_type": "stream",
     "text": [
      "c:\\Users\\user\\AppData\\Local\\Programs\\Python\\Python311\\Lib\\site-packages\\sktime\\datatypes\\_panel\\_convert.py:74: FutureWarning: DataFrame.applymap has been deprecated. Use DataFrame.map instead.\n",
      "  return X.applymap(_cell_is_series_or_array)\n",
      "c:\\Users\\user\\AppData\\Local\\Programs\\Python\\Python311\\Lib\\site-packages\\sktime\\datatypes\\_panel\\_convert.py:889: FutureWarning: DataFrame.applymap has been deprecated. Use DataFrame.map instead.\n",
      "  X.applymap(_convert_series_cell_to_numpy)\n"
     ]
    },
    {
     "name": "stdout",
     "output_type": "stream",
     "text": [
      "FaceFour\n"
     ]
    },
    {
     "name": "stderr",
     "output_type": "stream",
     "text": [
      "c:\\Users\\user\\AppData\\Local\\Programs\\Python\\Python311\\Lib\\site-packages\\sktime\\datatypes\\_panel\\_convert.py:74: FutureWarning: DataFrame.applymap has been deprecated. Use DataFrame.map instead.\n",
      "  return X.applymap(_cell_is_series_or_array)\n",
      "c:\\Users\\user\\AppData\\Local\\Programs\\Python\\Python311\\Lib\\site-packages\\sktime\\datatypes\\_panel\\_convert.py:889: FutureWarning: DataFrame.applymap has been deprecated. Use DataFrame.map instead.\n",
      "  X.applymap(_convert_series_cell_to_numpy)\n"
     ]
    },
    {
     "name": "stdout",
     "output_type": "stream",
     "text": [
      "FacesUCR\n"
     ]
    },
    {
     "name": "stderr",
     "output_type": "stream",
     "text": [
      "c:\\Users\\user\\AppData\\Local\\Programs\\Python\\Python311\\Lib\\site-packages\\sktime\\datatypes\\_panel\\_convert.py:74: FutureWarning: DataFrame.applymap has been deprecated. Use DataFrame.map instead.\n",
      "  return X.applymap(_cell_is_series_or_array)\n",
      "c:\\Users\\user\\AppData\\Local\\Programs\\Python\\Python311\\Lib\\site-packages\\sktime\\datatypes\\_panel\\_convert.py:889: FutureWarning: DataFrame.applymap has been deprecated. Use DataFrame.map instead.\n",
      "  X.applymap(_convert_series_cell_to_numpy)\n"
     ]
    },
    {
     "name": "stdout",
     "output_type": "stream",
     "text": [
      "FordA\n"
     ]
    },
    {
     "name": "stderr",
     "output_type": "stream",
     "text": [
      "c:\\Users\\user\\AppData\\Local\\Programs\\Python\\Python311\\Lib\\site-packages\\sktime\\datatypes\\_panel\\_convert.py:74: FutureWarning: DataFrame.applymap has been deprecated. Use DataFrame.map instead.\n",
      "  return X.applymap(_cell_is_series_or_array)\n",
      "c:\\Users\\user\\AppData\\Local\\Programs\\Python\\Python311\\Lib\\site-packages\\sktime\\datatypes\\_panel\\_convert.py:889: FutureWarning: DataFrame.applymap has been deprecated. Use DataFrame.map instead.\n",
      "  X.applymap(_convert_series_cell_to_numpy)\n"
     ]
    },
    {
     "name": "stdout",
     "output_type": "stream",
     "text": [
      "FordB\n"
     ]
    },
    {
     "name": "stderr",
     "output_type": "stream",
     "text": [
      "c:\\Users\\user\\AppData\\Local\\Programs\\Python\\Python311\\Lib\\site-packages\\sktime\\datatypes\\_panel\\_convert.py:74: FutureWarning: DataFrame.applymap has been deprecated. Use DataFrame.map instead.\n",
      "  return X.applymap(_cell_is_series_or_array)\n",
      "c:\\Users\\user\\AppData\\Local\\Programs\\Python\\Python311\\Lib\\site-packages\\sktime\\datatypes\\_panel\\_convert.py:889: FutureWarning: DataFrame.applymap has been deprecated. Use DataFrame.map instead.\n",
      "  X.applymap(_convert_series_cell_to_numpy)\n"
     ]
    },
    {
     "name": "stdout",
     "output_type": "stream",
     "text": [
      "Ham\n"
     ]
    },
    {
     "name": "stderr",
     "output_type": "stream",
     "text": [
      "c:\\Users\\user\\AppData\\Local\\Programs\\Python\\Python311\\Lib\\site-packages\\sktime\\datatypes\\_panel\\_convert.py:74: FutureWarning: DataFrame.applymap has been deprecated. Use DataFrame.map instead.\n",
      "  return X.applymap(_cell_is_series_or_array)\n",
      "c:\\Users\\user\\AppData\\Local\\Programs\\Python\\Python311\\Lib\\site-packages\\sktime\\datatypes\\_panel\\_convert.py:889: FutureWarning: DataFrame.applymap has been deprecated. Use DataFrame.map instead.\n",
      "  X.applymap(_convert_series_cell_to_numpy)\n"
     ]
    },
    {
     "name": "stdout",
     "output_type": "stream",
     "text": [
      "HandOutlines\n"
     ]
    },
    {
     "name": "stderr",
     "output_type": "stream",
     "text": [
      "c:\\Users\\user\\AppData\\Local\\Programs\\Python\\Python311\\Lib\\site-packages\\sktime\\datatypes\\_panel\\_convert.py:74: FutureWarning: DataFrame.applymap has been deprecated. Use DataFrame.map instead.\n",
      "  return X.applymap(_cell_is_series_or_array)\n",
      "c:\\Users\\user\\AppData\\Local\\Programs\\Python\\Python311\\Lib\\site-packages\\sktime\\datatypes\\_panel\\_convert.py:889: FutureWarning: DataFrame.applymap has been deprecated. Use DataFrame.map instead.\n",
      "  X.applymap(_convert_series_cell_to_numpy)\n"
     ]
    },
    {
     "name": "stdout",
     "output_type": "stream",
     "text": [
      "Haptics\n"
     ]
    },
    {
     "name": "stderr",
     "output_type": "stream",
     "text": [
      "c:\\Users\\user\\AppData\\Local\\Programs\\Python\\Python311\\Lib\\site-packages\\sktime\\datatypes\\_panel\\_convert.py:74: FutureWarning: DataFrame.applymap has been deprecated. Use DataFrame.map instead.\n",
      "  return X.applymap(_cell_is_series_or_array)\n",
      "c:\\Users\\user\\AppData\\Local\\Programs\\Python\\Python311\\Lib\\site-packages\\sktime\\datatypes\\_panel\\_convert.py:889: FutureWarning: DataFrame.applymap has been deprecated. Use DataFrame.map instead.\n",
      "  X.applymap(_convert_series_cell_to_numpy)\n"
     ]
    },
    {
     "name": "stdout",
     "output_type": "stream",
     "text": [
      "Herring\n"
     ]
    },
    {
     "name": "stderr",
     "output_type": "stream",
     "text": [
      "c:\\Users\\user\\AppData\\Local\\Programs\\Python\\Python311\\Lib\\site-packages\\sktime\\datatypes\\_panel\\_convert.py:74: FutureWarning: DataFrame.applymap has been deprecated. Use DataFrame.map instead.\n",
      "  return X.applymap(_cell_is_series_or_array)\n",
      "c:\\Users\\user\\AppData\\Local\\Programs\\Python\\Python311\\Lib\\site-packages\\sktime\\datatypes\\_panel\\_convert.py:889: FutureWarning: DataFrame.applymap has been deprecated. Use DataFrame.map instead.\n",
      "  X.applymap(_convert_series_cell_to_numpy)\n"
     ]
    },
    {
     "name": "stdout",
     "output_type": "stream",
     "text": [
      "InlineSkate\n"
     ]
    },
    {
     "name": "stderr",
     "output_type": "stream",
     "text": [
      "c:\\Users\\user\\AppData\\Local\\Programs\\Python\\Python311\\Lib\\site-packages\\sktime\\datatypes\\_panel\\_convert.py:74: FutureWarning: DataFrame.applymap has been deprecated. Use DataFrame.map instead.\n",
      "  return X.applymap(_cell_is_series_or_array)\n",
      "c:\\Users\\user\\AppData\\Local\\Programs\\Python\\Python311\\Lib\\site-packages\\sktime\\datatypes\\_panel\\_convert.py:889: FutureWarning: DataFrame.applymap has been deprecated. Use DataFrame.map instead.\n",
      "  X.applymap(_convert_series_cell_to_numpy)\n"
     ]
    },
    {
     "name": "stdout",
     "output_type": "stream",
     "text": [
      "InsectWingbeatSound\n",
      "ItalyPowerDemand\n"
     ]
    },
    {
     "name": "stderr",
     "output_type": "stream",
     "text": [
      "c:\\Users\\user\\AppData\\Local\\Programs\\Python\\Python311\\Lib\\site-packages\\sktime\\datatypes\\_panel\\_convert.py:74: FutureWarning: DataFrame.applymap has been deprecated. Use DataFrame.map instead.\n",
      "  return X.applymap(_cell_is_series_or_array)\n",
      "c:\\Users\\user\\AppData\\Local\\Programs\\Python\\Python311\\Lib\\site-packages\\sktime\\datatypes\\_panel\\_convert.py:889: FutureWarning: DataFrame.applymap has been deprecated. Use DataFrame.map instead.\n",
      "  X.applymap(_convert_series_cell_to_numpy)\n",
      "c:\\Users\\user\\AppData\\Local\\Programs\\Python\\Python311\\Lib\\site-packages\\sktime\\datatypes\\_panel\\_convert.py:74: FutureWarning: DataFrame.applymap has been deprecated. Use DataFrame.map instead.\n",
      "  return X.applymap(_cell_is_series_or_array)\n",
      "c:\\Users\\user\\AppData\\Local\\Programs\\Python\\Python311\\Lib\\site-packages\\sktime\\datatypes\\_panel\\_convert.py:889: FutureWarning: DataFrame.applymap has been deprecated. Use DataFrame.map instead.\n",
      "  X.applymap(_convert_series_cell_to_numpy)\n"
     ]
    },
    {
     "name": "stdout",
     "output_type": "stream",
     "text": [
      "LargeKitchenAppliances\n"
     ]
    },
    {
     "name": "stderr",
     "output_type": "stream",
     "text": [
      "c:\\Users\\user\\AppData\\Local\\Programs\\Python\\Python311\\Lib\\site-packages\\sktime\\datatypes\\_panel\\_convert.py:74: FutureWarning: DataFrame.applymap has been deprecated. Use DataFrame.map instead.\n",
      "  return X.applymap(_cell_is_series_or_array)\n",
      "c:\\Users\\user\\AppData\\Local\\Programs\\Python\\Python311\\Lib\\site-packages\\sktime\\datatypes\\_panel\\_convert.py:889: FutureWarning: DataFrame.applymap has been deprecated. Use DataFrame.map instead.\n",
      "  X.applymap(_convert_series_cell_to_numpy)\n"
     ]
    },
    {
     "name": "stdout",
     "output_type": "stream",
     "text": [
      "Meat\n"
     ]
    },
    {
     "name": "stderr",
     "output_type": "stream",
     "text": [
      "c:\\Users\\user\\AppData\\Local\\Programs\\Python\\Python311\\Lib\\site-packages\\sktime\\datatypes\\_panel\\_convert.py:74: FutureWarning: DataFrame.applymap has been deprecated. Use DataFrame.map instead.\n",
      "  return X.applymap(_cell_is_series_or_array)\n",
      "c:\\Users\\user\\AppData\\Local\\Programs\\Python\\Python311\\Lib\\site-packages\\sktime\\datatypes\\_panel\\_convert.py:889: FutureWarning: DataFrame.applymap has been deprecated. Use DataFrame.map instead.\n",
      "  X.applymap(_convert_series_cell_to_numpy)\n"
     ]
    },
    {
     "name": "stdout",
     "output_type": "stream",
     "text": [
      "MedicalImages\n"
     ]
    },
    {
     "name": "stderr",
     "output_type": "stream",
     "text": [
      "c:\\Users\\user\\AppData\\Local\\Programs\\Python\\Python311\\Lib\\site-packages\\sktime\\datatypes\\_panel\\_convert.py:74: FutureWarning: DataFrame.applymap has been deprecated. Use DataFrame.map instead.\n",
      "  return X.applymap(_cell_is_series_or_array)\n",
      "c:\\Users\\user\\AppData\\Local\\Programs\\Python\\Python311\\Lib\\site-packages\\sktime\\datatypes\\_panel\\_convert.py:889: FutureWarning: DataFrame.applymap has been deprecated. Use DataFrame.map instead.\n",
      "  X.applymap(_convert_series_cell_to_numpy)\n"
     ]
    },
    {
     "name": "stdout",
     "output_type": "stream",
     "text": [
      "MiddlePhalanxOutlineAgeGroup\n"
     ]
    },
    {
     "name": "stderr",
     "output_type": "stream",
     "text": [
      "c:\\Users\\user\\AppData\\Local\\Programs\\Python\\Python311\\Lib\\site-packages\\sktime\\datatypes\\_panel\\_convert.py:74: FutureWarning: DataFrame.applymap has been deprecated. Use DataFrame.map instead.\n",
      "  return X.applymap(_cell_is_series_or_array)\n",
      "c:\\Users\\user\\AppData\\Local\\Programs\\Python\\Python311\\Lib\\site-packages\\sktime\\datatypes\\_panel\\_convert.py:889: FutureWarning: DataFrame.applymap has been deprecated. Use DataFrame.map instead.\n",
      "  X.applymap(_convert_series_cell_to_numpy)\n"
     ]
    },
    {
     "name": "stdout",
     "output_type": "stream",
     "text": [
      "MiddlePhalanxOutlineCorrect\n"
     ]
    },
    {
     "name": "stderr",
     "output_type": "stream",
     "text": [
      "c:\\Users\\user\\AppData\\Local\\Programs\\Python\\Python311\\Lib\\site-packages\\sktime\\datatypes\\_panel\\_convert.py:74: FutureWarning: DataFrame.applymap has been deprecated. Use DataFrame.map instead.\n",
      "  return X.applymap(_cell_is_series_or_array)\n",
      "c:\\Users\\user\\AppData\\Local\\Programs\\Python\\Python311\\Lib\\site-packages\\sktime\\datatypes\\_panel\\_convert.py:889: FutureWarning: DataFrame.applymap has been deprecated. Use DataFrame.map instead.\n",
      "  X.applymap(_convert_series_cell_to_numpy)\n",
      "c:\\Users\\user\\AppData\\Local\\Programs\\Python\\Python311\\Lib\\site-packages\\sklearn\\metrics\\_classification.py:1469: UndefinedMetricWarning: Precision is ill-defined and being set to 0.0 in labels with no predicted samples. Use `zero_division` parameter to control this behavior.\n",
      "  _warn_prf(average, modifier, msg_start, len(result))\n"
     ]
    },
    {
     "name": "stdout",
     "output_type": "stream",
     "text": [
      "MiddlePhalanxTW\n"
     ]
    },
    {
     "name": "stderr",
     "output_type": "stream",
     "text": [
      "c:\\Users\\user\\AppData\\Local\\Programs\\Python\\Python311\\Lib\\site-packages\\sktime\\datatypes\\_panel\\_convert.py:74: FutureWarning: DataFrame.applymap has been deprecated. Use DataFrame.map instead.\n",
      "  return X.applymap(_cell_is_series_or_array)\n",
      "c:\\Users\\user\\AppData\\Local\\Programs\\Python\\Python311\\Lib\\site-packages\\sktime\\datatypes\\_panel\\_convert.py:889: FutureWarning: DataFrame.applymap has been deprecated. Use DataFrame.map instead.\n",
      "  X.applymap(_convert_series_cell_to_numpy)\n"
     ]
    },
    {
     "name": "stdout",
     "output_type": "stream",
     "text": [
      "MoteStrain\n"
     ]
    },
    {
     "name": "stderr",
     "output_type": "stream",
     "text": [
      "c:\\Users\\user\\AppData\\Local\\Programs\\Python\\Python311\\Lib\\site-packages\\sktime\\datatypes\\_panel\\_convert.py:74: FutureWarning: DataFrame.applymap has been deprecated. Use DataFrame.map instead.\n",
      "  return X.applymap(_cell_is_series_or_array)\n",
      "c:\\Users\\user\\AppData\\Local\\Programs\\Python\\Python311\\Lib\\site-packages\\sktime\\datatypes\\_panel\\_convert.py:889: FutureWarning: DataFrame.applymap has been deprecated. Use DataFrame.map instead.\n",
      "  X.applymap(_convert_series_cell_to_numpy)\n"
     ]
    },
    {
     "name": "stdout",
     "output_type": "stream",
     "text": [
      "OSULeaf\n"
     ]
    },
    {
     "name": "stderr",
     "output_type": "stream",
     "text": [
      "c:\\Users\\user\\AppData\\Local\\Programs\\Python\\Python311\\Lib\\site-packages\\sktime\\datatypes\\_panel\\_convert.py:74: FutureWarning: DataFrame.applymap has been deprecated. Use DataFrame.map instead.\n",
      "  return X.applymap(_cell_is_series_or_array)\n",
      "c:\\Users\\user\\AppData\\Local\\Programs\\Python\\Python311\\Lib\\site-packages\\sktime\\datatypes\\_panel\\_convert.py:889: FutureWarning: DataFrame.applymap has been deprecated. Use DataFrame.map instead.\n",
      "  X.applymap(_convert_series_cell_to_numpy)\n"
     ]
    },
    {
     "name": "stdout",
     "output_type": "stream",
     "text": [
      "OliveOil\n"
     ]
    },
    {
     "name": "stderr",
     "output_type": "stream",
     "text": [
      "c:\\Users\\user\\AppData\\Local\\Programs\\Python\\Python311\\Lib\\site-packages\\sktime\\datatypes\\_panel\\_convert.py:74: FutureWarning: DataFrame.applymap has been deprecated. Use DataFrame.map instead.\n",
      "  return X.applymap(_cell_is_series_or_array)\n",
      "c:\\Users\\user\\AppData\\Local\\Programs\\Python\\Python311\\Lib\\site-packages\\sktime\\datatypes\\_panel\\_convert.py:889: FutureWarning: DataFrame.applymap has been deprecated. Use DataFrame.map instead.\n",
      "  X.applymap(_convert_series_cell_to_numpy)\n"
     ]
    },
    {
     "name": "stdout",
     "output_type": "stream",
     "text": [
      "PhalangesOutlinesCorrect\n"
     ]
    },
    {
     "name": "stderr",
     "output_type": "stream",
     "text": [
      "c:\\Users\\user\\AppData\\Local\\Programs\\Python\\Python311\\Lib\\site-packages\\sktime\\datatypes\\_panel\\_convert.py:74: FutureWarning: DataFrame.applymap has been deprecated. Use DataFrame.map instead.\n",
      "  return X.applymap(_cell_is_series_or_array)\n",
      "c:\\Users\\user\\AppData\\Local\\Programs\\Python\\Python311\\Lib\\site-packages\\sktime\\datatypes\\_panel\\_convert.py:889: FutureWarning: DataFrame.applymap has been deprecated. Use DataFrame.map instead.\n",
      "  X.applymap(_convert_series_cell_to_numpy)\n",
      "c:\\Users\\user\\AppData\\Local\\Programs\\Python\\Python311\\Lib\\site-packages\\sklearn\\metrics\\_classification.py:1469: UndefinedMetricWarning: Precision is ill-defined and being set to 0.0 in labels with no predicted samples. Use `zero_division` parameter to control this behavior.\n",
      "  _warn_prf(average, modifier, msg_start, len(result))\n",
      "c:\\Users\\user\\AppData\\Local\\Programs\\Python\\Python311\\Lib\\site-packages\\sktime\\datatypes\\_panel\\_convert.py:74: FutureWarning: DataFrame.applymap has been deprecated. Use DataFrame.map instead.\n",
      "  return X.applymap(_cell_is_series_or_array)\n",
      "c:\\Users\\user\\AppData\\Local\\Programs\\Python\\Python311\\Lib\\site-packages\\sktime\\datatypes\\_panel\\_convert.py:889: FutureWarning: DataFrame.applymap has been deprecated. Use DataFrame.map instead.\n",
      "  X.applymap(_convert_series_cell_to_numpy)\n"
     ]
    },
    {
     "name": "stdout",
     "output_type": "stream",
     "text": [
      "Phoneme\n",
      "Plane\n"
     ]
    },
    {
     "name": "stderr",
     "output_type": "stream",
     "text": [
      "c:\\Users\\user\\AppData\\Local\\Programs\\Python\\Python311\\Lib\\site-packages\\sktime\\datatypes\\_panel\\_convert.py:74: FutureWarning: DataFrame.applymap has been deprecated. Use DataFrame.map instead.\n",
      "  return X.applymap(_cell_is_series_or_array)\n",
      "c:\\Users\\user\\AppData\\Local\\Programs\\Python\\Python311\\Lib\\site-packages\\sktime\\datatypes\\_panel\\_convert.py:889: FutureWarning: DataFrame.applymap has been deprecated. Use DataFrame.map instead.\n",
      "  X.applymap(_convert_series_cell_to_numpy)\n"
     ]
    },
    {
     "name": "stdout",
     "output_type": "stream",
     "text": [
      "ProximalPhalanxOutlineAgeGroup\n"
     ]
    },
    {
     "name": "stderr",
     "output_type": "stream",
     "text": [
      "c:\\Users\\user\\AppData\\Local\\Programs\\Python\\Python311\\Lib\\site-packages\\sktime\\datatypes\\_panel\\_convert.py:74: FutureWarning: DataFrame.applymap has been deprecated. Use DataFrame.map instead.\n",
      "  return X.applymap(_cell_is_series_or_array)\n",
      "c:\\Users\\user\\AppData\\Local\\Programs\\Python\\Python311\\Lib\\site-packages\\sktime\\datatypes\\_panel\\_convert.py:889: FutureWarning: DataFrame.applymap has been deprecated. Use DataFrame.map instead.\n",
      "  X.applymap(_convert_series_cell_to_numpy)\n"
     ]
    },
    {
     "name": "stdout",
     "output_type": "stream",
     "text": [
      "ProximalPhalanxOutlineCorrect\n"
     ]
    },
    {
     "name": "stderr",
     "output_type": "stream",
     "text": [
      "c:\\Users\\user\\AppData\\Local\\Programs\\Python\\Python311\\Lib\\site-packages\\sktime\\datatypes\\_panel\\_convert.py:74: FutureWarning: DataFrame.applymap has been deprecated. Use DataFrame.map instead.\n",
      "  return X.applymap(_cell_is_series_or_array)\n",
      "c:\\Users\\user\\AppData\\Local\\Programs\\Python\\Python311\\Lib\\site-packages\\sktime\\datatypes\\_panel\\_convert.py:889: FutureWarning: DataFrame.applymap has been deprecated. Use DataFrame.map instead.\n",
      "  X.applymap(_convert_series_cell_to_numpy)\n",
      "c:\\Users\\user\\AppData\\Local\\Programs\\Python\\Python311\\Lib\\site-packages\\sklearn\\metrics\\_classification.py:1469: UndefinedMetricWarning: Precision is ill-defined and being set to 0.0 in labels with no predicted samples. Use `zero_division` parameter to control this behavior.\n",
      "  _warn_prf(average, modifier, msg_start, len(result))\n"
     ]
    },
    {
     "name": "stdout",
     "output_type": "stream",
     "text": [
      "ProximalPhalanxTW\n"
     ]
    },
    {
     "name": "stderr",
     "output_type": "stream",
     "text": [
      "c:\\Users\\user\\AppData\\Local\\Programs\\Python\\Python311\\Lib\\site-packages\\sktime\\datatypes\\_panel\\_convert.py:74: FutureWarning: DataFrame.applymap has been deprecated. Use DataFrame.map instead.\n",
      "  return X.applymap(_cell_is_series_or_array)\n",
      "c:\\Users\\user\\AppData\\Local\\Programs\\Python\\Python311\\Lib\\site-packages\\sktime\\datatypes\\_panel\\_convert.py:889: FutureWarning: DataFrame.applymap has been deprecated. Use DataFrame.map instead.\n",
      "  X.applymap(_convert_series_cell_to_numpy)\n"
     ]
    },
    {
     "name": "stdout",
     "output_type": "stream",
     "text": [
      "RefrigerationDevices\n"
     ]
    },
    {
     "name": "stderr",
     "output_type": "stream",
     "text": [
      "c:\\Users\\user\\AppData\\Local\\Programs\\Python\\Python311\\Lib\\site-packages\\sktime\\datatypes\\_panel\\_convert.py:74: FutureWarning: DataFrame.applymap has been deprecated. Use DataFrame.map instead.\n",
      "  return X.applymap(_cell_is_series_or_array)\n",
      "c:\\Users\\user\\AppData\\Local\\Programs\\Python\\Python311\\Lib\\site-packages\\sktime\\datatypes\\_panel\\_convert.py:889: FutureWarning: DataFrame.applymap has been deprecated. Use DataFrame.map instead.\n",
      "  X.applymap(_convert_series_cell_to_numpy)\n"
     ]
    },
    {
     "name": "stdout",
     "output_type": "stream",
     "text": [
      "ScreenType\n"
     ]
    },
    {
     "name": "stderr",
     "output_type": "stream",
     "text": [
      "c:\\Users\\user\\AppData\\Local\\Programs\\Python\\Python311\\Lib\\site-packages\\sktime\\datatypes\\_panel\\_convert.py:74: FutureWarning: DataFrame.applymap has been deprecated. Use DataFrame.map instead.\n",
      "  return X.applymap(_cell_is_series_or_array)\n",
      "c:\\Users\\user\\AppData\\Local\\Programs\\Python\\Python311\\Lib\\site-packages\\sktime\\datatypes\\_panel\\_convert.py:889: FutureWarning: DataFrame.applymap has been deprecated. Use DataFrame.map instead.\n",
      "  X.applymap(_convert_series_cell_to_numpy)\n"
     ]
    },
    {
     "name": "stdout",
     "output_type": "stream",
     "text": [
      "ShapeletSim\n"
     ]
    },
    {
     "name": "stderr",
     "output_type": "stream",
     "text": [
      "c:\\Users\\user\\AppData\\Local\\Programs\\Python\\Python311\\Lib\\site-packages\\sktime\\datatypes\\_panel\\_convert.py:74: FutureWarning: DataFrame.applymap has been deprecated. Use DataFrame.map instead.\n",
      "  return X.applymap(_cell_is_series_or_array)\n",
      "c:\\Users\\user\\AppData\\Local\\Programs\\Python\\Python311\\Lib\\site-packages\\sktime\\datatypes\\_panel\\_convert.py:889: FutureWarning: DataFrame.applymap has been deprecated. Use DataFrame.map instead.\n",
      "  X.applymap(_convert_series_cell_to_numpy)\n"
     ]
    },
    {
     "name": "stdout",
     "output_type": "stream",
     "text": [
      "ShapesAll\n"
     ]
    },
    {
     "name": "stderr",
     "output_type": "stream",
     "text": [
      "c:\\Users\\user\\AppData\\Local\\Programs\\Python\\Python311\\Lib\\site-packages\\sktime\\datatypes\\_panel\\_convert.py:74: FutureWarning: DataFrame.applymap has been deprecated. Use DataFrame.map instead.\n",
      "  return X.applymap(_cell_is_series_or_array)\n",
      "c:\\Users\\user\\AppData\\Local\\Programs\\Python\\Python311\\Lib\\site-packages\\sktime\\datatypes\\_panel\\_convert.py:889: FutureWarning: DataFrame.applymap has been deprecated. Use DataFrame.map instead.\n",
      "  X.applymap(_convert_series_cell_to_numpy)\n"
     ]
    },
    {
     "name": "stdout",
     "output_type": "stream",
     "text": [
      "SmallKitchenAppliances\n"
     ]
    },
    {
     "name": "stderr",
     "output_type": "stream",
     "text": [
      "c:\\Users\\user\\AppData\\Local\\Programs\\Python\\Python311\\Lib\\site-packages\\sktime\\datatypes\\_panel\\_convert.py:74: FutureWarning: DataFrame.applymap has been deprecated. Use DataFrame.map instead.\n",
      "  return X.applymap(_cell_is_series_or_array)\n",
      "c:\\Users\\user\\AppData\\Local\\Programs\\Python\\Python311\\Lib\\site-packages\\sktime\\datatypes\\_panel\\_convert.py:889: FutureWarning: DataFrame.applymap has been deprecated. Use DataFrame.map instead.\n",
      "  X.applymap(_convert_series_cell_to_numpy)\n"
     ]
    },
    {
     "name": "stdout",
     "output_type": "stream",
     "text": [
      "StarLightCurves\n"
     ]
    },
    {
     "name": "stderr",
     "output_type": "stream",
     "text": [
      "c:\\Users\\user\\AppData\\Local\\Programs\\Python\\Python311\\Lib\\site-packages\\sktime\\datatypes\\_panel\\_convert.py:74: FutureWarning: DataFrame.applymap has been deprecated. Use DataFrame.map instead.\n",
      "  return X.applymap(_cell_is_series_or_array)\n",
      "c:\\Users\\user\\AppData\\Local\\Programs\\Python\\Python311\\Lib\\site-packages\\sktime\\datatypes\\_panel\\_convert.py:889: FutureWarning: DataFrame.applymap has been deprecated. Use DataFrame.map instead.\n",
      "  X.applymap(_convert_series_cell_to_numpy)\n"
     ]
    },
    {
     "name": "stdout",
     "output_type": "stream",
     "text": [
      "Strawberry\n"
     ]
    },
    {
     "name": "stderr",
     "output_type": "stream",
     "text": [
      "c:\\Users\\user\\AppData\\Local\\Programs\\Python\\Python311\\Lib\\site-packages\\sktime\\datatypes\\_panel\\_convert.py:74: FutureWarning: DataFrame.applymap has been deprecated. Use DataFrame.map instead.\n",
      "  return X.applymap(_cell_is_series_or_array)\n",
      "c:\\Users\\user\\AppData\\Local\\Programs\\Python\\Python311\\Lib\\site-packages\\sktime\\datatypes\\_panel\\_convert.py:889: FutureWarning: DataFrame.applymap has been deprecated. Use DataFrame.map instead.\n",
      "  X.applymap(_convert_series_cell_to_numpy)\n"
     ]
    },
    {
     "name": "stdout",
     "output_type": "stream",
     "text": [
      "SwedishLeaf\n"
     ]
    },
    {
     "name": "stderr",
     "output_type": "stream",
     "text": [
      "c:\\Users\\user\\AppData\\Local\\Programs\\Python\\Python311\\Lib\\site-packages\\sktime\\datatypes\\_panel\\_convert.py:74: FutureWarning: DataFrame.applymap has been deprecated. Use DataFrame.map instead.\n",
      "  return X.applymap(_cell_is_series_or_array)\n",
      "c:\\Users\\user\\AppData\\Local\\Programs\\Python\\Python311\\Lib\\site-packages\\sktime\\datatypes\\_panel\\_convert.py:889: FutureWarning: DataFrame.applymap has been deprecated. Use DataFrame.map instead.\n",
      "  X.applymap(_convert_series_cell_to_numpy)\n"
     ]
    },
    {
     "name": "stdout",
     "output_type": "stream",
     "text": [
      "Symbols\n"
     ]
    },
    {
     "name": "stderr",
     "output_type": "stream",
     "text": [
      "c:\\Users\\user\\AppData\\Local\\Programs\\Python\\Python311\\Lib\\site-packages\\sktime\\datatypes\\_panel\\_convert.py:74: FutureWarning: DataFrame.applymap has been deprecated. Use DataFrame.map instead.\n",
      "  return X.applymap(_cell_is_series_or_array)\n",
      "c:\\Users\\user\\AppData\\Local\\Programs\\Python\\Python311\\Lib\\site-packages\\sktime\\datatypes\\_panel\\_convert.py:889: FutureWarning: DataFrame.applymap has been deprecated. Use DataFrame.map instead.\n",
      "  X.applymap(_convert_series_cell_to_numpy)\n"
     ]
    },
    {
     "name": "stdout",
     "output_type": "stream",
     "text": [
      "ToeSegmentation1\n"
     ]
    },
    {
     "name": "stderr",
     "output_type": "stream",
     "text": [
      "c:\\Users\\user\\AppData\\Local\\Programs\\Python\\Python311\\Lib\\site-packages\\sktime\\datatypes\\_panel\\_convert.py:74: FutureWarning: DataFrame.applymap has been deprecated. Use DataFrame.map instead.\n",
      "  return X.applymap(_cell_is_series_or_array)\n",
      "c:\\Users\\user\\AppData\\Local\\Programs\\Python\\Python311\\Lib\\site-packages\\sktime\\datatypes\\_panel\\_convert.py:889: FutureWarning: DataFrame.applymap has been deprecated. Use DataFrame.map instead.\n",
      "  X.applymap(_convert_series_cell_to_numpy)\n"
     ]
    },
    {
     "name": "stdout",
     "output_type": "stream",
     "text": [
      "ToeSegmentation2\n"
     ]
    },
    {
     "name": "stderr",
     "output_type": "stream",
     "text": [
      "c:\\Users\\user\\AppData\\Local\\Programs\\Python\\Python311\\Lib\\site-packages\\sktime\\datatypes\\_panel\\_convert.py:74: FutureWarning: DataFrame.applymap has been deprecated. Use DataFrame.map instead.\n",
      "  return X.applymap(_cell_is_series_or_array)\n",
      "c:\\Users\\user\\AppData\\Local\\Programs\\Python\\Python311\\Lib\\site-packages\\sktime\\datatypes\\_panel\\_convert.py:889: FutureWarning: DataFrame.applymap has been deprecated. Use DataFrame.map instead.\n",
      "  X.applymap(_convert_series_cell_to_numpy)\n"
     ]
    },
    {
     "name": "stdout",
     "output_type": "stream",
     "text": [
      "Trace\n"
     ]
    },
    {
     "name": "stderr",
     "output_type": "stream",
     "text": [
      "c:\\Users\\user\\AppData\\Local\\Programs\\Python\\Python311\\Lib\\site-packages\\sktime\\datatypes\\_panel\\_convert.py:74: FutureWarning: DataFrame.applymap has been deprecated. Use DataFrame.map instead.\n",
      "  return X.applymap(_cell_is_series_or_array)\n",
      "c:\\Users\\user\\AppData\\Local\\Programs\\Python\\Python311\\Lib\\site-packages\\sktime\\datatypes\\_panel\\_convert.py:889: FutureWarning: DataFrame.applymap has been deprecated. Use DataFrame.map instead.\n",
      "  X.applymap(_convert_series_cell_to_numpy)\n"
     ]
    },
    {
     "name": "stdout",
     "output_type": "stream",
     "text": [
      "TwoLeadECG\n"
     ]
    },
    {
     "name": "stderr",
     "output_type": "stream",
     "text": [
      "c:\\Users\\user\\AppData\\Local\\Programs\\Python\\Python311\\Lib\\site-packages\\sktime\\datatypes\\_panel\\_convert.py:74: FutureWarning: DataFrame.applymap has been deprecated. Use DataFrame.map instead.\n",
      "  return X.applymap(_cell_is_series_or_array)\n",
      "c:\\Users\\user\\AppData\\Local\\Programs\\Python\\Python311\\Lib\\site-packages\\sktime\\datatypes\\_panel\\_convert.py:889: FutureWarning: DataFrame.applymap has been deprecated. Use DataFrame.map instead.\n",
      "  X.applymap(_convert_series_cell_to_numpy)\n"
     ]
    },
    {
     "name": "stdout",
     "output_type": "stream",
     "text": [
      "UWaveGestureLibraryAll\n",
      "Wine\n"
     ]
    },
    {
     "name": "stderr",
     "output_type": "stream",
     "text": [
      "c:\\Users\\user\\AppData\\Local\\Programs\\Python\\Python311\\Lib\\site-packages\\sktime\\datatypes\\_panel\\_convert.py:74: FutureWarning: DataFrame.applymap has been deprecated. Use DataFrame.map instead.\n",
      "  return X.applymap(_cell_is_series_or_array)\n",
      "c:\\Users\\user\\AppData\\Local\\Programs\\Python\\Python311\\Lib\\site-packages\\sktime\\datatypes\\_panel\\_convert.py:889: FutureWarning: DataFrame.applymap has been deprecated. Use DataFrame.map instead.\n",
      "  X.applymap(_convert_series_cell_to_numpy)\n",
      "c:\\Users\\user\\AppData\\Local\\Programs\\Python\\Python311\\Lib\\site-packages\\sktime\\datatypes\\_panel\\_convert.py:74: FutureWarning: DataFrame.applymap has been deprecated. Use DataFrame.map instead.\n",
      "  return X.applymap(_cell_is_series_or_array)\n",
      "c:\\Users\\user\\AppData\\Local\\Programs\\Python\\Python311\\Lib\\site-packages\\sktime\\datatypes\\_panel\\_convert.py:889: FutureWarning: DataFrame.applymap has been deprecated. Use DataFrame.map instead.\n",
      "  X.applymap(_convert_series_cell_to_numpy)\n"
     ]
    },
    {
     "name": "stdout",
     "output_type": "stream",
     "text": [
      "Worms\n"
     ]
    },
    {
     "name": "stderr",
     "output_type": "stream",
     "text": [
      "c:\\Users\\user\\AppData\\Local\\Programs\\Python\\Python311\\Lib\\site-packages\\sktime\\datatypes\\_panel\\_convert.py:74: FutureWarning: DataFrame.applymap has been deprecated. Use DataFrame.map instead.\n",
      "  return X.applymap(_cell_is_series_or_array)\n",
      "c:\\Users\\user\\AppData\\Local\\Programs\\Python\\Python311\\Lib\\site-packages\\sktime\\datatypes\\_panel\\_convert.py:889: FutureWarning: DataFrame.applymap has been deprecated. Use DataFrame.map instead.\n",
      "  X.applymap(_convert_series_cell_to_numpy)\n"
     ]
    },
    {
     "name": "stdout",
     "output_type": "stream",
     "text": [
      "WormsTwoClass\n"
     ]
    },
    {
     "data": {
      "text/plain": [
       "{'Rocket': [('Adiac',\n",
       "   (0.7872340425531915,\n",
       "    0.8260679745786128,\n",
       "    0.7872340425531915,\n",
       "    0.7840465819815006)),\n",
       "  ('ArrowHead', (0.953125, 0.953125, 0.953125, 0.953125)),\n",
       "  ('Beef',\n",
       "   (0.8888888888888888,\n",
       "    0.9166666666666666,\n",
       "    0.8888888888888888,\n",
       "    0.890652557319224)),\n",
       "  ('BeetleFly',\n",
       "   (0.9166666666666666,\n",
       "    0.9285714285714285,\n",
       "    0.9166666666666666,\n",
       "    0.9160839160839161)),\n",
       "  ('BirdChicken',\n",
       "   (0.8333333333333334, 0.875, 0.8333333333333334, 0.8285714285714286)),\n",
       "  ('CBF', (1.0, 1.0, 1.0, 1.0)),\n",
       "  ('Car',\n",
       "   (0.9722222222222222,\n",
       "    0.976190476190476,\n",
       "    0.9722222222222222,\n",
       "    0.9723646723646725)),\n",
       "  ('ChlorineConcentration',\n",
       "   (0.9984532095901005,\n",
       "    0.9984559232574863,\n",
       "    0.9984532095901005,\n",
       "    0.9984536111995296)),\n",
       "  ('Coffee', (1.0, 1.0, 1.0, 1.0)),\n",
       "  ('Computers',\n",
       "   (0.8866666666666667,\n",
       "    0.8908819345661452,\n",
       "    0.8866666666666667,\n",
       "    0.8868431590656284)),\n",
       "  ('DiatomSizeReduction', (1.0, 1.0, 1.0, 1.0)),\n",
       "  ('DistalPhalanxOutlineAgeGroup',\n",
       "   (0.8395061728395061,\n",
       "    0.8614037888463175,\n",
       "    0.8395061728395061,\n",
       "    0.8440676811503071)),\n",
       "  ('DistalPhalanxOutlineCorrect',\n",
       "   (0.8593155893536122,\n",
       "    0.8584559879670537,\n",
       "    0.8593155893536122,\n",
       "    0.8577976277982019)),\n",
       "  ('DistalPhalanxTW',\n",
       "   (0.7962962962962963,\n",
       "    0.7601388334364098,\n",
       "    0.7962962962962963,\n",
       "    0.7721060753647477)),\n",
       "  ('ECG200',\n",
       "   (0.9666666666666667,\n",
       "    0.9682170542635659,\n",
       "    0.9666666666666667,\n",
       "    0.9661375661375662)),\n",
       "  ('ECG5000',\n",
       "   (0.9533333333333334,\n",
       "    0.9485690089442018,\n",
       "    0.9533333333333334,\n",
       "    0.9501545395245139)),\n",
       "  ('ECGFiveDays', (1.0, 1.0, 1.0, 1.0)),\n",
       "  ('Earthquakes',\n",
       "   (0.7841726618705036,\n",
       "    0.721703553187984,\n",
       "    0.7841726618705036,\n",
       "    0.7331391085478726)),\n",
       "  ('ElectricDevices',\n",
       "   (0.9032451923076923,\n",
       "    0.9069445171747882,\n",
       "    0.9032451923076923,\n",
       "    0.9033589844189348)),\n",
       "  ('FaceAll',\n",
       "   (0.9940740740740741,\n",
       "    0.9942513338513338,\n",
       "    0.9940740740740741,\n",
       "    0.994111884609984)),\n",
       "  ('FaceFour', (1.0, 1.0, 1.0, 1.0)),\n",
       "  ('FacesUCR',\n",
       "   (0.9955555555555555,\n",
       "    0.9956028941068883,\n",
       "    0.9955555555555555,\n",
       "    0.9955442643399021)),\n",
       "  ('FordA',\n",
       "   (0.933649289099526,\n",
       "    0.9336860990747092,\n",
       "    0.933649289099526,\n",
       "    0.9336402806733434)),\n",
       "  ('FordB',\n",
       "   (0.9190404797601199,\n",
       "    0.9195923488284546,\n",
       "    0.9190404797601199,\n",
       "    0.919018637622772)),\n",
       "  ('Ham',\n",
       "   (0.8307692307692308,\n",
       "    0.8438330170777988,\n",
       "    0.8307692307692308,\n",
       "    0.8323960586397502)),\n",
       "  ('HandOutlines',\n",
       "   (0.9416058394160584,\n",
       "    0.9417523144051531,\n",
       "    0.9416058394160584,\n",
       "    0.9410434192315452)),\n",
       "  ('Haptics',\n",
       "   (0.6258992805755396,\n",
       "    0.6254323952165679,\n",
       "    0.6258992805755396,\n",
       "    0.6191674722415234)),\n",
       "  ('Herring',\n",
       "   (0.6666666666666666,\n",
       "    0.6604938271604939,\n",
       "    0.6666666666666666,\n",
       "    0.6631446540880503)),\n",
       "  ('InlineSkate',\n",
       "   (0.7589743589743589,\n",
       "    0.7659969146545315,\n",
       "    0.7589743589743589,\n",
       "    0.7591371982141213)),\n",
       "  ('InsectWingbeatSound',\n",
       "   (0.7484848484848485,\n",
       "    0.7509760214142114,\n",
       "    0.7484848484848485,\n",
       "    0.7451595282196757)),\n",
       "  ('ItalyPowerDemand',\n",
       "   (0.9574468085106383,\n",
       "    0.9574468085106383,\n",
       "    0.9574468085106383,\n",
       "    0.9574468085106383)),\n",
       "  ('LargeKitchenAppliances',\n",
       "   (0.9244444444444444,\n",
       "    0.9253983443457128,\n",
       "    0.9244444444444444,\n",
       "    0.9241954797150427)),\n",
       "  ('Meat',\n",
       "   (0.9444444444444444,\n",
       "    0.9523809523809523,\n",
       "    0.9444444444444444,\n",
       "    0.9444444444444444)),\n",
       "  ('MedicalImages',\n",
       "   (0.880466472303207,\n",
       "    0.8836373972306703,\n",
       "    0.880466472303207,\n",
       "    0.8741638262619463)),\n",
       "  ('MiddlePhalanxOutlineAgeGroup',\n",
       "   (0.688622754491018,\n",
       "    0.6841127870840598,\n",
       "    0.688622754491018,\n",
       "    0.6751035743638772)),\n",
       "  ('MiddlePhalanxOutlineCorrect',\n",
       "   (0.8656716417910447,\n",
       "    0.8662974990391769,\n",
       "    0.8656716417910447,\n",
       "    0.8659344529501657)),\n",
       "  ('MiddlePhalanxTW',\n",
       "   (0.5542168674698795,\n",
       "    0.5008035213048816,\n",
       "    0.5542168674698795,\n",
       "    0.5139054679709589)),\n",
       "  ('MoteStrain',\n",
       "   (0.981675392670157,\n",
       "    0.9817912893919601,\n",
       "    0.981675392670157,\n",
       "    0.9816727546804129)),\n",
       "  ('OSULeaf',\n",
       "   (0.9699248120300752,\n",
       "    0.9724696356275305,\n",
       "    0.9699248120300752,\n",
       "    0.9700380983418299)),\n",
       "  ('OliveOil',\n",
       "   (0.9444444444444444,\n",
       "    0.9583333333333334,\n",
       "    0.9444444444444444,\n",
       "    0.9458874458874459)),\n",
       "  ('PhalangesOutlinesCorrect',\n",
       "   (0.8458646616541353,\n",
       "    0.8462324484537334,\n",
       "    0.8458646616541353,\n",
       "    0.84178711224904)),\n",
       "  ('Phoneme',\n",
       "   (0.41390205371248023,\n",
       "    0.4263098651265666,\n",
       "    0.41390205371248023,\n",
       "    0.383948695935011)),\n",
       "  ('Plane', (1.0, 1.0, 1.0, 1.0)),\n",
       "  ('ProximalPhalanxOutlineAgeGroup',\n",
       "   (0.8571428571428571,\n",
       "    0.8571428571428571,\n",
       "    0.8571428571428571,\n",
       "    0.8571428571428571)),\n",
       "  ('ProximalPhalanxOutlineCorrect',\n",
       "   (0.9216417910447762,\n",
       "    0.9219807407064059,\n",
       "    0.9216417910447762,\n",
       "    0.9206318391518166)),\n",
       "  ('ProximalPhalanxTW',\n",
       "   (0.8516483516483516,\n",
       "    0.8264892842854163,\n",
       "    0.8516483516483516,\n",
       "    0.8328138188330549)),\n",
       "  ('RefrigerationDevices',\n",
       "   (0.7955555555555556,\n",
       "    0.8006515295404185,\n",
       "    0.7955555555555556,\n",
       "    0.7970359774417745)),\n",
       "  ('ScreenType',\n",
       "   (0.6666666666666666,\n",
       "    0.6674817674817675,\n",
       "    0.6666666666666666,\n",
       "    0.6658939946583259)),\n",
       "  ('ShapeletSim', (1.0, 1.0, 1.0, 1.0)),\n",
       "  ('ShapesAll', (0.925, 0.9409446649029983, 0.925, 0.919546253635521)),\n",
       "  ('SmallKitchenAppliances',\n",
       "   (0.8533333333333334,\n",
       "    0.8597265315101353,\n",
       "    0.8533333333333334,\n",
       "    0.8521345704391464)),\n",
       "  ('StarLightCurves',\n",
       "   (0.9790689281847709,\n",
       "    0.9793014242423079,\n",
       "    0.9790689281847709,\n",
       "    0.9785875218733016)),\n",
       "  ('Strawberry',\n",
       "   (0.9796610169491525,\n",
       "    0.9801808106744997,\n",
       "    0.9796610169491525,\n",
       "    0.9797314730282224)),\n",
       "  ('SwedishLeaf',\n",
       "   (0.9733727810650887,\n",
       "    0.9758382642998029,\n",
       "    0.9733727810650887,\n",
       "    0.9736186163016122)),\n",
       "  ('Symbols',\n",
       "   (0.9967320261437909,\n",
       "    0.9968098350451291,\n",
       "    0.9967320261437909,\n",
       "    0.9967375041513027)),\n",
       "  ('ToeSegmentation1',\n",
       "   (0.9876543209876543,\n",
       "    0.9879792072774529,\n",
       "    0.9876543209876543,\n",
       "    0.9876656733361715)),\n",
       "  ('ToeSegmentation2', (0.96, 0.96, 0.96, 0.96)),\n",
       "  ('Trace', (1.0, 1.0, 1.0, 1.0)),\n",
       "  ('TwoLeadECG', (1.0, 1.0, 1.0, 1.0)),\n",
       "  ('UWaveGestureLibraryAll',\n",
       "   (0.9813988095238095,\n",
       "    0.9818165949379593,\n",
       "    0.9813988095238095,\n",
       "    0.9813267036913225)),\n",
       "  ('Wine', (1.0, 1.0, 1.0, 1.0)),\n",
       "  ('Worms',\n",
       "   (0.6282051282051282,\n",
       "    0.6633921633921633,\n",
       "    0.6282051282051282,\n",
       "    0.6199304968535737)),\n",
       "  ('WormsTwoClass',\n",
       "   (0.7307692307692307,\n",
       "    0.7292264385860445,\n",
       "    0.7307692307692307,\n",
       "    0.7298754015510962))],\n",
       " 'Shapelet': [('Adiac',\n",
       "   (0.7829787234042553,\n",
       "    0.7779796444690061,\n",
       "    0.7829787234042553,\n",
       "    0.768527957927207)),\n",
       "  ('ArrowHead', (0.921875, 0.9253624512670564, 0.921875, 0.9225515288015288)),\n",
       "  ('Beef',\n",
       "   (0.7222222222222222,\n",
       "    0.6574074074074074,\n",
       "    0.7222222222222222,\n",
       "    0.6767676767676767)),\n",
       "  ('BeetleFly',\n",
       "   (0.9166666666666666,\n",
       "    0.9285714285714285,\n",
       "    0.9166666666666666,\n",
       "    0.9160839160839161)),\n",
       "  ('BirdChicken',\n",
       "   (0.9166666666666666,\n",
       "    0.9285714285714285,\n",
       "    0.9166666666666666,\n",
       "    0.9160839160839161)),\n",
       "  ('CBF', (1.0, 1.0, 1.0, 1.0)),\n",
       "  ('Car',\n",
       "   (0.9444444444444444,\n",
       "    0.9583333333333334,\n",
       "    0.9444444444444444,\n",
       "    0.9468253968253969)),\n",
       "  ('ChlorineConcentration',\n",
       "   (0.9961330239752514,\n",
       "    0.9961606058299214,\n",
       "    0.9961330239752514,\n",
       "    0.9961313055028562)),\n",
       "  ('Coffee', (1.0, 1.0, 1.0, 1.0)),\n",
       "  ('Computers', (0.82, 0.823, 0.82, 0.8184577723378212)),\n",
       "  ('DiatomSizeReduction', (1.0, 1.0, 1.0, 1.0)),\n",
       "  ('DistalPhalanxOutlineAgeGroup',\n",
       "   (0.8703703703703703,\n",
       "    0.8932120850725501,\n",
       "    0.8703703703703703,\n",
       "    0.8741892859042617)),\n",
       "  ('DistalPhalanxOutlineCorrect',\n",
       "   (0.8593155893536122,\n",
       "    0.8590452122472092,\n",
       "    0.8593155893536122,\n",
       "    0.8591673743110225)),\n",
       "  ('DistalPhalanxTW',\n",
       "   (0.7962962962962963,\n",
       "    0.7577931202592448,\n",
       "    0.7962962962962963,\n",
       "    0.7697104301883121)),\n",
       "  ('ECG200', (0.95, 0.95125, 0.95, 0.950332383665717)),\n",
       "  ('ECG5000',\n",
       "   (0.9553333333333334,\n",
       "    0.9494480167076739,\n",
       "    0.9553333333333334,\n",
       "    0.9493004206875356)),\n",
       "  ('ECGFiveDays', (1.0, 1.0, 1.0, 1.0)),\n",
       "  ('Earthquakes',\n",
       "   (0.7913669064748201,\n",
       "    0.6365342508601814,\n",
       "    0.7913669064748201,\n",
       "    0.7055560370980324)),\n",
       "  ('ElectricDevices',\n",
       "   (0.8934294871794872,\n",
       "    0.8960792405224638,\n",
       "    0.8934294871794872,\n",
       "    0.8925269024824336)),\n",
       "  ('FaceAll',\n",
       "   (0.965925925925926,\n",
       "    0.9668626881968068,\n",
       "    0.965925925925926,\n",
       "    0.9656802759617895)),\n",
       "  ('FaceFour', (1.0, 1.0, 1.0, 1.0)),\n",
       "  ('FacesUCR',\n",
       "   (0.9777777777777777,\n",
       "    0.9784316253516468,\n",
       "    0.9777777777777777,\n",
       "    0.9778170440888279)),\n",
       "  ('FordA',\n",
       "   (0.940419769803656,\n",
       "    0.9404198319056236,\n",
       "    0.940419769803656,\n",
       "    0.9404180757614283)),\n",
       "  ('FordB',\n",
       "   (0.9122938530734632,\n",
       "    0.91279365941984,\n",
       "    0.9122938530734632,\n",
       "    0.91227231097931)),\n",
       "  ('Ham',\n",
       "   (0.8461538461538461,\n",
       "    0.8552380952380954,\n",
       "    0.8461538461538461,\n",
       "    0.8474903474903475)),\n",
       "  ('HandOutlines',\n",
       "   (0.9099756690997567,\n",
       "    0.909383252507811,\n",
       "    0.9099756690997567,\n",
       "    0.9093848356317098)),\n",
       "  ('Haptics',\n",
       "   (0.6258992805755396,\n",
       "    0.6237678355818708,\n",
       "    0.6258992805755396,\n",
       "    0.6166583149771557)),\n",
       "  ('Herring',\n",
       "   (0.717948717948718,\n",
       "    0.7057471264367816,\n",
       "    0.717948717948718,\n",
       "    0.7072463768115943)),\n",
       "  ('InlineSkate',\n",
       "   (0.676923076923077,\n",
       "    0.6959406595207812,\n",
       "    0.676923076923077,\n",
       "    0.68127441572512)),\n",
       "  ('InsectWingbeatSound',\n",
       "   (0.7181818181818181,\n",
       "    0.722725281247448,\n",
       "    0.7181818181818181,\n",
       "    0.7152314080083971)),\n",
       "  ('ItalyPowerDemand',\n",
       "   (0.9513677811550152,\n",
       "    0.9516100057674671,\n",
       "    0.9513677811550152,\n",
       "    0.9513479900189703)),\n",
       "  ('LargeKitchenAppliances',\n",
       "   (0.8933333333333333,\n",
       "    0.8968556531214759,\n",
       "    0.8933333333333333,\n",
       "    0.893442208765352)),\n",
       "  ('Meat',\n",
       "   (0.9722222222222222,\n",
       "    0.9743589743589745,\n",
       "    0.9722222222222222,\n",
       "    0.9722633744855967)),\n",
       "  ('MedicalImages',\n",
       "   (0.8629737609329446,\n",
       "    0.8571469723592543,\n",
       "    0.8629737609329446,\n",
       "    0.8513510836121044)),\n",
       "  ('MiddlePhalanxOutlineAgeGroup',\n",
       "   (0.7305389221556886,\n",
       "    0.759531636028642,\n",
       "    0.7305389221556886,\n",
       "    0.7150956074242933)),\n",
       "  ('MiddlePhalanxOutlineCorrect',\n",
       "   (0.8582089552238806,\n",
       "    0.8577162208166849,\n",
       "    0.8582089552238806,\n",
       "    0.8579123389685962)),\n",
       "  ('MiddlePhalanxTW',\n",
       "   (0.5903614457831325,\n",
       "    0.5248042862695019,\n",
       "    0.5903614457831325,\n",
       "    0.5390592162385217)),\n",
       "  ('MoteStrain',\n",
       "   (0.9895287958115183,\n",
       "    0.9895836188700968,\n",
       "    0.9895287958115183,\n",
       "    0.9895290828511069)),\n",
       "  ('OSULeaf',\n",
       "   (0.9398496240601504,\n",
       "    0.9453178400546822,\n",
       "    0.9398496240601504,\n",
       "    0.9383458646616543)),\n",
       "  ('OliveOil',\n",
       "   (0.8333333333333334,\n",
       "    0.8333333333333334,\n",
       "    0.8333333333333334,\n",
       "    0.8333333333333334)),\n",
       "  ('PhalangesOutlinesCorrect',\n",
       "   (0.8483709273182958,\n",
       "    0.8472221328443457,\n",
       "    0.8483709273182958,\n",
       "    0.8457715412581239)),\n",
       "  ('Phoneme',\n",
       "   (0.4881516587677725,\n",
       "    0.4949508062472106,\n",
       "    0.4881516587677725,\n",
       "    0.4514840638147667)),\n",
       "  ('Plane', (1.0, 1.0, 1.0, 1.0)),\n",
       "  ('ProximalPhalanxOutlineAgeGroup',\n",
       "   (0.8681318681318682,\n",
       "    0.8691152691152692,\n",
       "    0.8681318681318682,\n",
       "    0.8678337528741269)),\n",
       "  ('ProximalPhalanxOutlineCorrect',\n",
       "   (0.8917910447761194,\n",
       "    0.8923586852969198,\n",
       "    0.8917910447761194,\n",
       "    0.8896630163090818)),\n",
       "  ('ProximalPhalanxTW',\n",
       "   (0.7912087912087912,\n",
       "    0.7642187311275151,\n",
       "    0.7912087912087912,\n",
       "    0.7726733274636076)),\n",
       "  ('RefrigerationDevices',\n",
       "   (0.7955555555555556,\n",
       "    0.7961132201132202,\n",
       "    0.7955555555555556,\n",
       "    0.7954476506357102)),\n",
       "  ('ScreenType',\n",
       "   (0.7066666666666667,\n",
       "    0.7126167166167167,\n",
       "    0.7066666666666667,\n",
       "    0.7067812725090036)),\n",
       "  ('ShapeletSim', (1.0, 1.0, 1.0, 1.0)),\n",
       "  ('ShapesAll',\n",
       "   (0.8583333333333333,\n",
       "    0.8778122494789162,\n",
       "    0.8583333333333333,\n",
       "    0.8509492726056195)),\n",
       "  ('SmallKitchenAppliances',\n",
       "   (0.84, 0.8454100911424297, 0.84, 0.8394739552386611)),\n",
       "  ('StarLightCurves',\n",
       "   (0.9779862865391555,\n",
       "    0.978134793903615,\n",
       "    0.9779862865391555,\n",
       "    0.9774919179425616)),\n",
       "  ('Strawberry',\n",
       "   (0.9864406779661017,\n",
       "    0.9869164436515017,\n",
       "    0.9864406779661017,\n",
       "    0.9864876486854814)),\n",
       "  ('SwedishLeaf',\n",
       "   (0.9437869822485208,\n",
       "    0.9455746522106417,\n",
       "    0.9437869822485208,\n",
       "    0.9436048141369493)),\n",
       "  ('Symbols',\n",
       "   (0.9901960784313726,\n",
       "    0.990678238508518,\n",
       "    0.9901960784313726,\n",
       "    0.9901335068651437)),\n",
       "  ('ToeSegmentation1',\n",
       "   (0.9876543209876543,\n",
       "    0.9879792072774529,\n",
       "    0.9876543209876543,\n",
       "    0.9876656733361715)),\n",
       "  ('ToeSegmentation2', (0.92, 0.9274603174603174, 0.92, 0.921995841995842)),\n",
       "  ('Trace', (1.0, 1.0, 1.0, 1.0)),\n",
       "  ('TwoLeadECG', (1.0, 1.0, 1.0, 1.0)),\n",
       "  ('UWaveGestureLibraryAll',\n",
       "   (0.9724702380952381,\n",
       "    0.9726642477685852,\n",
       "    0.9724702380952381,\n",
       "    0.9723117262593013)),\n",
       "  ('Wine',\n",
       "   (0.9705882352941176,\n",
       "    0.972549019607843,\n",
       "    0.9705882352941176,\n",
       "    0.9707182607791127)),\n",
       "  ('Worms',\n",
       "   (0.6153846153846154,\n",
       "    0.5602389063927525,\n",
       "    0.6153846153846154,\n",
       "    0.5753147112796235)),\n",
       "  ('WormsTwoClass',\n",
       "   (0.7307692307692307,\n",
       "    0.732590676310649,\n",
       "    0.7307692307692307,\n",
       "    0.7315590363045066))],\n",
       " 'WEASEL': [('Adiac',\n",
       "   (0.7957446808510639,\n",
       "    0.7845228884590586,\n",
       "    0.7957446808510639,\n",
       "    0.7756983900538343)),\n",
       "  ('ArrowHead', (0.9375, 0.9397569444444445, 0.9375, 0.9377073978367082)),\n",
       "  ('Beef',\n",
       "   (0.6111111111111112,\n",
       "    0.5851851851851851,\n",
       "    0.6111111111111112,\n",
       "    0.5734126984126984)),\n",
       "  ('BeetleFly', (1.0, 1.0, 1.0, 1.0)),\n",
       "  ('BirdChicken',\n",
       "   (0.8333333333333334, 0.875, 0.8333333333333334, 0.8285714285714286)),\n",
       "  ('CBF', (1.0, 1.0, 1.0, 1.0)),\n",
       "  ('Car',\n",
       "   (0.9722222222222222,\n",
       "    0.9753086419753088,\n",
       "    0.9722222222222222,\n",
       "    0.9717765894236483)),\n",
       "  ('ChlorineConcentration',\n",
       "   (0.979891724671307,\n",
       "    0.979999275868423,\n",
       "    0.979891724671307,\n",
       "    0.9798267274267684)),\n",
       "  ('Coffee', (1.0, 1.0, 1.0, 1.0)),\n",
       "  ('Computers', (0.82, 0.8241322901849218, 0.82, 0.8202803114571746)),\n",
       "  ('DiatomSizeReduction', (1.0, 1.0, 1.0, 1.0)),\n",
       "  ('DistalPhalanxOutlineAgeGroup',\n",
       "   (0.8580246913580247,\n",
       "    0.8915152212253661,\n",
       "    0.8580246913580247,\n",
       "    0.862307466454043)),\n",
       "  ('DistalPhalanxOutlineCorrect',\n",
       "   (0.8479087452471483,\n",
       "    0.8473599379188392,\n",
       "    0.8479087452471483,\n",
       "    0.8475828758961997)),\n",
       "  ('DistalPhalanxTW',\n",
       "   (0.7777777777777778,\n",
       "    0.7327386108392486,\n",
       "    0.7777777777777778,\n",
       "    0.7333405506177898)),\n",
       "  ('ECG200', (0.95, 0.95125, 0.95, 0.950332383665717)),\n",
       "  ('ECG5000', (0.956, 0.9485961524701597, 0.956, 0.9506353432186656)),\n",
       "  ('ECGFiveDays', (1.0, 1.0, 1.0, 1.0)),\n",
       "  ('Earthquakes',\n",
       "   (0.7410071942446043,\n",
       "    0.7268272338650819,\n",
       "    0.7410071942446043,\n",
       "    0.7333379042171301)),\n",
       "  ('ElectricDevices',\n",
       "   (0.8882211538461539,\n",
       "    0.8917533385611305,\n",
       "    0.8882211538461539,\n",
       "    0.8880042577019526)),\n",
       "  ('FaceAll',\n",
       "   (0.9614814814814815,\n",
       "    0.9628249057865935,\n",
       "    0.9614814814814815,\n",
       "    0.9597532042379939)),\n",
       "  ('FaceFour', (1.0, 1.0, 1.0, 1.0)),\n",
       "  ('FacesUCR',\n",
       "   (0.9792592592592593,\n",
       "    0.9798061542912644,\n",
       "    0.9792592592592593,\n",
       "    0.9791732477029937)),\n",
       "  ('FordA',\n",
       "   (0.9282329045362221,\n",
       "    0.9282726252856465,\n",
       "    0.9282329045362221,\n",
       "    0.9282374455078746)),\n",
       "  ('FordB',\n",
       "   (0.8973013493253373,\n",
       "    0.89744634366515,\n",
       "    0.8973013493253373,\n",
       "    0.8972885932849011)),\n",
       "  ('Ham',\n",
       "   (0.8615384615384616,\n",
       "    0.8743833017077798,\n",
       "    0.8615384615384616,\n",
       "    0.8628695025234318)),\n",
       "  ('HandOutlines',\n",
       "   (0.8686131386861314,\n",
       "    0.8675541976824116,\n",
       "    0.8686131386861314,\n",
       "    0.867880674499395)),\n",
       "  ('Haptics',\n",
       "   (0.460431654676259,\n",
       "    0.4612825428806515,\n",
       "    0.460431654676259,\n",
       "    0.4569795865259634)),\n",
       "  ('Herring',\n",
       "   (0.5384615384615384,\n",
       "    0.5555555555555555,\n",
       "    0.5384615384615384,\n",
       "    0.5457142857142857)),\n",
       "  ('InlineSkate',\n",
       "   (0.5794871794871795,\n",
       "    0.6063136930819858,\n",
       "    0.5794871794871795,\n",
       "    0.5834755013860426)),\n",
       "  ('InsectWingbeatSound',\n",
       "   (0.6757575757575758,\n",
       "    0.6749733835103444,\n",
       "    0.6757575757575758,\n",
       "    0.6732635341113571)),\n",
       "  ('ItalyPowerDemand',\n",
       "   (0.9452887537993921,\n",
       "    0.9453404806322369,\n",
       "    0.9452887537993921,\n",
       "    0.9452796487473246)),\n",
       "  ('LargeKitchenAppliances',\n",
       "   (0.8577777777777778,\n",
       "    0.8582092568759234,\n",
       "    0.8577777777777778,\n",
       "    0.8579191984060005)),\n",
       "  ('Meat',\n",
       "   (0.9722222222222222,\n",
       "    0.9743589743589745,\n",
       "    0.9722222222222222,\n",
       "    0.9722633744855967)),\n",
       "  ('MedicalImages',\n",
       "   (0.7900874635568513,\n",
       "    0.7933866430659755,\n",
       "    0.7900874635568513,\n",
       "    0.7833604139937421)),\n",
       "  ('MiddlePhalanxOutlineAgeGroup',\n",
       "   (0.688622754491018,\n",
       "    0.7045088926624363,\n",
       "    0.688622754491018,\n",
       "    0.6883469902300663)),\n",
       "  ('MiddlePhalanxOutlineCorrect',\n",
       "   (0.8246268656716418,\n",
       "    0.8237245676122912,\n",
       "    0.8246268656716418,\n",
       "    0.8240675245577066)),\n",
       "  ('MiddlePhalanxTW',\n",
       "   (0.572289156626506,\n",
       "    0.49279051690633496,\n",
       "    0.572289156626506,\n",
       "    0.5235796306577767)),\n",
       "  ('MoteStrain',\n",
       "   (0.9869109947643979,\n",
       "    0.9872483402601608,\n",
       "    0.9869109947643979,\n",
       "    0.9869105462742614)),\n",
       "  ('OSULeaf',\n",
       "   (0.9849624060150376,\n",
       "    0.9864661654135337,\n",
       "    0.9849624060150376,\n",
       "    0.9851179576457139)),\n",
       "  ('OliveOil',\n",
       "   (0.7777777777777778,\n",
       "    0.7685185185185185,\n",
       "    0.7777777777777778,\n",
       "    0.7686868686868686)),\n",
       "  ('PhalangesOutlinesCorrect',\n",
       "   (0.8195488721804511,\n",
       "    0.8175938277593626,\n",
       "    0.8195488721804511,\n",
       "    0.815537279644155)),\n",
       "  ('Phoneme',\n",
       "   (0.3617693522906793,\n",
       "    0.3752198692442686,\n",
       "    0.3617693522906793,\n",
       "    0.3452555324715064)),\n",
       "  ('Plane', (1.0, 1.0, 1.0, 1.0)),\n",
       "  ('ProximalPhalanxOutlineAgeGroup',\n",
       "   (0.8571428571428571,\n",
       "    0.8625318953492328,\n",
       "    0.8571428571428571,\n",
       "    0.8587670890753083)),\n",
       "  ('ProximalPhalanxOutlineCorrect',\n",
       "   (0.8731343283582089,\n",
       "    0.8750181733817955,\n",
       "    0.8731343283582089,\n",
       "    0.8694406461481413)),\n",
       "  ('ProximalPhalanxTW',\n",
       "   (0.8406593406593407,\n",
       "    0.7960629878927334,\n",
       "    0.8406593406593407,\n",
       "    0.8120170497781425)),\n",
       "  ('RefrigerationDevices',\n",
       "   (0.7911111111111111,\n",
       "    0.794716049382716,\n",
       "    0.7911111111111111,\n",
       "    0.7911636949491501)),\n",
       "  ('ScreenType',\n",
       "   (0.6044444444444445,\n",
       "    0.6052198678514468,\n",
       "    0.6044444444444445,\n",
       "    0.6043564821425738)),\n",
       "  ('ShapeletSim', (1.0, 1.0, 1.0, 1.0)),\n",
       "  ('ShapesAll',\n",
       "   (0.9416666666666667,\n",
       "    0.9506823192239859,\n",
       "    0.9416666666666667,\n",
       "    0.9409818032605702)),\n",
       "  ('SmallKitchenAppliances',\n",
       "   (0.7377777777777778,\n",
       "    0.7439463385799593,\n",
       "    0.7377777777777778,\n",
       "    0.7377975378999516)),\n",
       "  ('StarLightCurves',\n",
       "   (0.9520028870443883,\n",
       "    0.9515326500965874,\n",
       "    0.9520028870443883,\n",
       "    0.9510944191180372)),\n",
       "  ('Strawberry',\n",
       "   (0.9694915254237289,\n",
       "    0.9698638694438904,\n",
       "    0.9694915254237289,\n",
       "    0.9695720453405001)),\n",
       "  ('SwedishLeaf',\n",
       "   (0.9615384615384616,\n",
       "    0.9627977580786286,\n",
       "    0.9615384615384616,\n",
       "    0.9612829206324999)),\n",
       "  ('Symbols',\n",
       "   (0.9901960784313726,\n",
       "    0.9902943633593789,\n",
       "    0.9901960784313726,\n",
       "    0.9902125124539076)),\n",
       "  ('ToeSegmentation1',\n",
       "   (0.9753086419753086,\n",
       "    0.9765748654637544,\n",
       "    0.9753086419753086,\n",
       "    0.9753464194508666)),\n",
       "  ('ToeSegmentation2', (0.98, 0.9805128205128204, 0.98, 0.9796950875211743)),\n",
       "  ('Trace', (1.0, 1.0, 1.0, 1.0)),\n",
       "  ('TwoLeadECG', (1.0, 1.0, 1.0, 1.0)),\n",
       "  ('UWaveGestureLibraryAll',\n",
       "   (0.90625, 0.9061447926607474, 0.90625, 0.9055810839713816)),\n",
       "  ('Wine',\n",
       "   (0.9117647058823529,\n",
       "    0.9141382868937048,\n",
       "    0.9117647058823529,\n",
       "    0.9121547823373382)),\n",
       "  ('Worms',\n",
       "   (0.6794871794871795,\n",
       "    0.758909717733247,\n",
       "    0.6794871794871795,\n",
       "    0.6810349361808249)),\n",
       "  ('WormsTwoClass',\n",
       "   (0.6666666666666666,\n",
       "    0.6764705882352942,\n",
       "    0.6666666666666666,\n",
       "    0.6698369565217391))]}"
      ]
     },
     "execution_count": 8,
     "metadata": {},
     "output_type": "execute_result"
    }
   ],
   "source": [
    "\n",
    "\n",
    "model = 'WEASEL'\n",
    "for name in dataset_names:\n",
    "    X_test = np.load(f\"{name}/X_test.npy\", allow_pickle=True)\n",
    "    y_test = np.load(f\"{name}/y_test.npy\", allow_pickle=True)\n",
    "    X_test = pd.DataFrame(X_test)    \n",
    "    classifier = joblib.load(f\"{name}/{model}-{name}.pkl\")\n",
    "    accuracy, precision, recall, f1 = evaluate_classifier(classifier, X_test, y_test)\n",
    "    evals[model].append((name, (accuracy, precision, recall, f1)))\n",
    "    print(name)\n",
    "evals\n"
   ]
  },
  {
   "cell_type": "code",
   "execution_count": 4,
   "metadata": {},
   "outputs": [
    {
     "name": "stderr",
     "output_type": "stream",
     "text": [
      "c:\\Users\\user\\AppData\\Local\\Programs\\Python\\Python311\\Lib\\site-packages\\numba\\typed\\typeddict.py:34: NumbaTypeSafetyWarning: \u001b[1m\u001b[1m\u001b[1munsafe cast from int64 to uint32. Precision may be lost.\u001b[0m\u001b[0m\u001b[0m\n",
      "  d[key] = value\n"
     ]
    }
   ],
   "source": [
    "name = 'Meat'\n",
    "model = 'WEASEL'\n",
    "classifier = joblib.load(f\"{name}/{model}-{name}.pkl\")\n"
   ]
  },
  {
   "cell_type": "code",
   "execution_count": 9,
   "metadata": {},
   "outputs": [],
   "source": [
    "import json\n",
    "# Specify the file path where you want to save the JSON file\n",
    "file_path = \"output.json\"\n",
    "\n",
    "# Save the dictionary as a JSON file\n",
    "with open(file_path, \"w\") as json_file:\n",
    "    json.dump(evals, json_file)"
   ]
  }
 ],
 "metadata": {
  "kernelspec": {
   "display_name": "Python 3",
   "language": "python",
   "name": "python3"
  },
  "language_info": {
   "codemirror_mode": {
    "name": "ipython",
    "version": 3
   },
   "file_extension": ".py",
   "mimetype": "text/x-python",
   "name": "python",
   "nbconvert_exporter": "python",
   "pygments_lexer": "ipython3",
   "version": "3.11.5"
  }
 },
 "nbformat": 4,
 "nbformat_minor": 2
}
