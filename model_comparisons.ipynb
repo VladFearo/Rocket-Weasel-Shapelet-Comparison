{
 "cells": [
  {
   "cell_type": "code",
   "execution_count": 1,
   "metadata": {},
   "outputs": [
    {
     "name": "stdout",
     "output_type": "stream",
     "text": [
      "Requirement already satisfied: sktime in c:\\users\\user\\appdata\\local\\programs\\python\\python311\\lib\\site-packages (0.23.0)\n",
      "Requirement already satisfied: numpy<1.26,>=1.21.0 in c:\\users\\user\\appdata\\local\\programs\\python\\python311\\lib\\site-packages (from sktime) (1.25.2)\n",
      "Requirement already satisfied: pandas<2.2.0,>=1.1.0 in c:\\users\\user\\appdata\\local\\programs\\python\\python311\\lib\\site-packages (from sktime) (2.1.1)\n",
      "Requirement already satisfied: packaging in c:\\users\\user\\appdata\\roaming\\python\\python311\\site-packages (from sktime) (23.1)\n",
      "Requirement already satisfied: scikit-base<0.6.0 in c:\\users\\user\\appdata\\local\\programs\\python\\python311\\lib\\site-packages (from sktime) (0.5.1)\n",
      "Requirement already satisfied: scikit-learn<1.4.0,>=0.24.0 in c:\\users\\user\\appdata\\local\\programs\\python\\python311\\lib\\site-packages (from sktime) (1.3.1)\n",
      "Requirement already satisfied: scipy<2.0.0,>=1.2.0 in c:\\users\\user\\appdata\\local\\programs\\python\\python311\\lib\\site-packages (from sktime) (1.11.2)\n",
      "Requirement already satisfied: python-dateutil>=2.8.2 in c:\\users\\user\\appdata\\roaming\\python\\python311\\site-packages (from pandas<2.2.0,>=1.1.0->sktime) (2.8.2)\n",
      "Requirement already satisfied: pytz>=2020.1 in c:\\users\\user\\appdata\\local\\programs\\python\\python311\\lib\\site-packages (from pandas<2.2.0,>=1.1.0->sktime) (2023.3.post1)\n",
      "Requirement already satisfied: tzdata>=2022.1 in c:\\users\\user\\appdata\\local\\programs\\python\\python311\\lib\\site-packages (from pandas<2.2.0,>=1.1.0->sktime) (2023.3)\n",
      "Requirement already satisfied: joblib>=1.1.1 in c:\\users\\user\\appdata\\local\\programs\\python\\python311\\lib\\site-packages (from scikit-learn<1.4.0,>=0.24.0->sktime) (1.3.2)\n",
      "Requirement already satisfied: threadpoolctl>=2.0.0 in c:\\users\\user\\appdata\\local\\programs\\python\\python311\\lib\\site-packages (from scikit-learn<1.4.0,>=0.24.0->sktime) (3.2.0)\n",
      "Requirement already satisfied: six>=1.5 in c:\\users\\user\\appdata\\roaming\\python\\python311\\site-packages (from python-dateutil>=2.8.2->pandas<2.2.0,>=1.1.0->sktime) (1.16.0)\n",
      "Note: you may need to restart the kernel to use updated packages.\n"
     ]
    }
   ],
   "source": [
    "pip install sktime\n"
   ]
  },
  {
   "cell_type": "code",
   "execution_count": 2,
   "metadata": {},
   "outputs": [
    {
     "name": "stdout",
     "output_type": "stream",
     "text": [
      "Requirement already satisfied: joblib in c:\\users\\user\\appdata\\local\\programs\\python\\python311\\lib\\site-packages (1.3.2)\n",
      "Note: you may need to restart the kernel to use updated packages.\n"
     ]
    }
   ],
   "source": [
    "pip install joblib"
   ]
  },
  {
   "cell_type": "code",
   "execution_count": 3,
   "metadata": {},
   "outputs": [],
   "source": [
    "dataset_names = [\n",
    " 'Adiac',\n",
    " 'ArrowHead',\n",
    " 'Beef',\n",
    " 'BeetleFly',\n",
    " 'BirdChicken',\n",
    " 'CBF',\n",
    " 'Car',\n",
    " 'ChlorineConcentration',\n",
    " 'Coffee',\n",
    " 'Computers',\n",
    " 'DiatomSizeReduction',\n",
    " 'DistalPhalanxOutlineAgeGroup',\n",
    " 'DistalPhalanxOutlineCorrect',\n",
    " 'DistalPhalanxTW',\n",
    " 'ECG200',\n",
    " 'ECG5000',\n",
    " 'ECGFiveDays',\n",
    " 'Earthquakes',\n",
    " 'ElectricDevices',\n",
    " 'FaceAll',\n",
    " 'FaceFour',\n",
    " 'FacesUCR',\n",
    " 'FordA',\n",
    " 'FordB',\n",
    " 'Ham',\n",
    " 'HandOutlines',\n",
    " 'Haptics',\n",
    " 'Herring',\n",
    " 'InlineSkate',\n",
    " 'InsectWingbeatSound',\n",
    " 'ItalyPowerDemand',\n",
    " 'LargeKitchenAppliances',\n",
    " 'Meat',\n",
    " 'MedicalImages',\n",
    " 'MiddlePhalanxOutlineAgeGroup',\n",
    " 'MiddlePhalanxOutlineCorrect',\n",
    " 'MiddlePhalanxTW',\n",
    " 'MoteStrain',\n",
    " 'OSULeaf',\n",
    " 'OliveOil',\n",
    " 'PhalangesOutlinesCorrect',\n",
    " 'Phoneme',\n",
    " 'Plane',\n",
    " 'ProximalPhalanxOutlineAgeGroup',\n",
    " 'ProximalPhalanxOutlineCorrect',\n",
    " 'ProximalPhalanxTW',\n",
    " 'RefrigerationDevices',\n",
    " 'ScreenType',\n",
    " 'ShapeletSim',\n",
    " 'ShapesAll',\n",
    " 'SmallKitchenAppliances',\n",
    " 'StarLightCurves',\n",
    " 'Strawberry',\n",
    " 'SwedishLeaf',\n",
    " 'Symbols',\n",
    " 'ToeSegmentation1',\n",
    " 'ToeSegmentation2',\n",
    " 'Trace',\n",
    " 'TwoLeadECG',\n",
    " 'UWaveGestureLibraryAll',\n",
    " 'Wine',\n",
    " 'Worms',\n",
    " 'WormsTwoClass'\n",
    " ]"
   ]
  },
  {
   "cell_type": "code",
   "execution_count": 4,
   "metadata": {},
   "outputs": [],
   "source": [
    "from sktime.classification.dictionary_based import WEASEL\n",
    "from sktime.classification.shapelet_based import ShapeletTransformClassifier\n",
    "from sktime.classification.kernel_based import RocketClassifier\n",
    "from sktime.datasets import load_UCR_UEA_dataset\n",
    "from sklearn.model_selection import train_test_split\n",
    "from sklearn.metrics import accuracy_score\n",
    "import os\n",
    "import joblib"
   ]
  },
  {
   "cell_type": "code",
   "execution_count": 5,
   "metadata": {},
   "outputs": [],
   "source": [
    "def save_model(name, database, clf):\n",
    "    # Specify the directory and filename where you want to save the model\n",
    "    save_directory = './model/'\n",
    "    model_filename = f\"{name}-{database}.pkl\" \n",
    "\n",
    "    # Combine the directory and filename to create the full file path\n",
    "    full_model_path = os.path.join(save_directory, model_filename)\n",
    "\n",
    "    # Save the trained model to the specified directory\n",
    "    joblib.dump(clf, full_model_path)\n"
   ]
  },
  {
   "cell_type": "code",
   "execution_count": 6,
   "metadata": {},
   "outputs": [
    {
     "name": "stderr",
     "output_type": "stream",
     "text": [
      "c:\\Users\\user\\AppData\\Local\\Programs\\Python\\Python311\\Lib\\site-packages\\sktime\\datatypes\\_panel\\_convert.py:74: FutureWarning: DataFrame.applymap has been deprecated. Use DataFrame.map instead.\n",
      "  return X.applymap(_cell_is_series_or_array)\n",
      "c:\\Users\\user\\AppData\\Local\\Programs\\Python\\Python311\\Lib\\site-packages\\sktime\\datatypes\\_panel\\_convert.py:889: FutureWarning: DataFrame.applymap has been deprecated. Use DataFrame.map instead.\n",
      "  X.applymap(_convert_series_cell_to_numpy)\n",
      "c:\\Users\\user\\AppData\\Local\\Programs\\Python\\Python311\\Lib\\site-packages\\sktime\\datatypes\\_panel\\_convert.py:74: FutureWarning: DataFrame.applymap has been deprecated. Use DataFrame.map instead.\n",
      "  return X.applymap(_cell_is_series_or_array)\n",
      "c:\\Users\\user\\AppData\\Local\\Programs\\Python\\Python311\\Lib\\site-packages\\sktime\\datatypes\\_panel\\_convert.py:889: FutureWarning: DataFrame.applymap has been deprecated. Use DataFrame.map instead.\n",
      "  X.applymap(_convert_series_cell_to_numpy)\n",
      "c:\\Users\\user\\AppData\\Local\\Programs\\Python\\Python311\\Lib\\site-packages\\sktime\\datatypes\\_panel\\_convert.py:74: FutureWarning: DataFrame.applymap has been deprecated. Use DataFrame.map instead.\n",
      "  return X.applymap(_cell_is_series_or_array)\n",
      "c:\\Users\\user\\AppData\\Local\\Programs\\Python\\Python311\\Lib\\site-packages\\sktime\\datatypes\\_panel\\_convert.py:889: FutureWarning: DataFrame.applymap has been deprecated. Use DataFrame.map instead.\n",
      "  X.applymap(_convert_series_cell_to_numpy)\n",
      "c:\\Users\\user\\AppData\\Local\\Programs\\Python\\Python311\\Lib\\site-packages\\sktime\\datatypes\\_panel\\_convert.py:74: FutureWarning: DataFrame.applymap has been deprecated. Use DataFrame.map instead.\n",
      "  return X.applymap(_cell_is_series_or_array)\n",
      "c:\\Users\\user\\AppData\\Local\\Programs\\Python\\Python311\\Lib\\site-packages\\sktime\\datatypes\\_panel\\_convert.py:889: FutureWarning: DataFrame.applymap has been deprecated. Use DataFrame.map instead.\n",
      "  X.applymap(_convert_series_cell_to_numpy)\n",
      "c:\\Users\\user\\AppData\\Local\\Programs\\Python\\Python311\\Lib\\site-packages\\sktime\\datatypes\\_panel\\_convert.py:74: FutureWarning: DataFrame.applymap has been deprecated. Use DataFrame.map instead.\n",
      "  return X.applymap(_cell_is_series_or_array)\n",
      "c:\\Users\\user\\AppData\\Local\\Programs\\Python\\Python311\\Lib\\site-packages\\sktime\\datatypes\\_panel\\_convert.py:889: FutureWarning: DataFrame.applymap has been deprecated. Use DataFrame.map instead.\n",
      "  X.applymap(_convert_series_cell_to_numpy)\n",
      "c:\\Users\\user\\AppData\\Local\\Programs\\Python\\Python311\\Lib\\site-packages\\sktime\\datatypes\\_panel\\_convert.py:74: FutureWarning: DataFrame.applymap has been deprecated. Use DataFrame.map instead.\n",
      "  return X.applymap(_cell_is_series_or_array)\n",
      "c:\\Users\\user\\AppData\\Local\\Programs\\Python\\Python311\\Lib\\site-packages\\sktime\\datatypes\\_panel\\_convert.py:889: FutureWarning: DataFrame.applymap has been deprecated. Use DataFrame.map instead.\n",
      "  X.applymap(_convert_series_cell_to_numpy)\n"
     ]
    },
    {
     "ename": "TypeError",
     "evalue": "unsupported operand type(s) for +: 'int' and 'tuple'",
     "output_type": "error",
     "traceback": [
      "\u001b[1;31m---------------------------------------------------------------------------\u001b[0m",
      "\u001b[1;31mTypeError\u001b[0m                                 Traceback (most recent call last)",
      "Cell \u001b[1;32mIn[6], line 56\u001b[0m\n\u001b[0;32m     52\u001b[0m     weasel_scores\u001b[38;5;241m.\u001b[39mappend((name, weasel_accuracy))\n\u001b[0;32m     55\u001b[0m \u001b[38;5;66;03m# Print the average accuracy scores for each classifier\u001b[39;00m\n\u001b[1;32m---> 56\u001b[0m \u001b[38;5;28mprint\u001b[39m(\u001b[38;5;124m\"\u001b[39m\u001b[38;5;124mAverage ROCKET Accuracy:\u001b[39m\u001b[38;5;124m\"\u001b[39m, \u001b[38;5;28;43msum\u001b[39;49m\u001b[43m(\u001b[49m\u001b[43mrocket_scores\u001b[49m\u001b[43m)\u001b[49m \u001b[38;5;241m/\u001b[39m \u001b[38;5;28mlen\u001b[39m(rocket_scores))\n\u001b[0;32m     57\u001b[0m \u001b[38;5;28mprint\u001b[39m(\u001b[38;5;124m\"\u001b[39m\u001b[38;5;124mAverage ShapeletTransform Accuracy:\u001b[39m\u001b[38;5;124m\"\u001b[39m, \u001b[38;5;28msum\u001b[39m(shapelet_scores) \u001b[38;5;241m/\u001b[39m \u001b[38;5;28mlen\u001b[39m(shapelet_scores))\n",
      "\u001b[1;31mTypeError\u001b[0m: unsupported operand type(s) for +: 'int' and 'tuple'"
     ]
    }
   ],
   "source": [
    "\n",
    "# Initialize empty lists to store the evaluation metrics\n",
    "rocket_scores = []\n",
    "shapelet_scores = []\n",
    "weasel_scores = []\n",
    "\n",
    "# Loop through each dataset\n",
    "# Load the dataset\n",
    "for name in dataset_names:\n",
    "    X, y = load_UCR_UEA_dataset(name, return_X_y=True)\n",
    "\n",
    "    # Split the dataset into training and testing sets\n",
    "    X_train, X_test, y_train, y_test = train_test_split(X, y, test_size=0.3, random_state=42)\n",
    "\n",
    "    # Initialize and train the ROCKET classifier\n",
    "    rocket = RocketClassifier()\n",
    "    rocket.fit(X_train, y_train)\n",
    "    \n",
    "    # Save the trained model\n",
    "    save_model(\"Rocket\", name, rocket)\n",
    "\n",
    "    # Initialize and train the ShapeletTransform classifier\n",
    "    shapelet = ShapeletTransformClassifier()\n",
    "    shapelet.fit(X_train, y_train)\n",
    "    \n",
    "    # Save the trained model\n",
    "    save_model(\"Shapelet\", name, shapelet)\n",
    "\n",
    "    # Initialize and train the WEASEL classifier\n",
    "    weasel = WEASEL()\n",
    "    weasel.fit(X_train, y_train)\n",
    "\n",
    "    # Save the trained model\n",
    "    save_model(\"WEASEL\", name, weasel)\n",
    "    \n",
    "    \n",
    "    # Evaluate the trained classifiers on the testing set\n",
    "    rocket_pred = rocket.predict(X_test)\n",
    "    shapelet_pred = shapelet.predict(X_test)\n",
    "    weasel_pred = weasel.predict(X_test)\n",
    "\n",
    "\n",
    "    # Calculate and store the accuracy scores\n",
    "    rocket_accuracy = accuracy_score(y_test, rocket_pred)\n",
    "    shapelet_accuracy = accuracy_score(y_test, shapelet_pred)\n",
    "    weasel_accuracy = accuracy_score(y_test, weasel_pred)\n",
    "\n",
    "\n",
    "    rocket_scores.append((name, rocket_accuracy))\n",
    "    shapelet_scores.append((name, shapelet_accuracy))\n",
    "    weasel_scores.append((name, weasel_accuracy))\n",
    "\n",
    "#\n",
    "# TODO: Fix these prints to work with tuples and add WEASEL prints\n",
    "# Print the average accuracy scores for each classifier\n",
    "#print(\"Average ROCKET Accuracy:\", sum(rocket_scores) / len(rocket_scores))\n",
    "#print(\"Average ShapeletTransform Accuracy:\", sum(shapelet_scores) / len(shapelet_scores))\n"
   ]
  },
  {
   "cell_type": "code",
   "execution_count": 7,
   "metadata": {},
   "outputs": [
    {
     "data": {
      "text/plain": [
       "[('ArrowHead', 0.953125)]"
      ]
     },
     "execution_count": 7,
     "metadata": {},
     "output_type": "execute_result"
    }
   ],
   "source": [
    "len(rocket_scores)\n",
    "rocket_scores\n"
   ]
  },
  {
   "cell_type": "code",
   "execution_count": 8,
   "metadata": {},
   "outputs": [
    {
     "data": {
      "text/plain": [
       "[('ArrowHead', 0.890625)]"
      ]
     },
     "execution_count": 8,
     "metadata": {},
     "output_type": "execute_result"
    }
   ],
   "source": [
    "shapelet_scores"
   ]
  },
  {
   "cell_type": "code",
   "execution_count": 10,
   "metadata": {},
   "outputs": [
    {
     "data": {
      "text/html": [
       "<style>#sk-23bfd273-c859-4aa1-abea-706d84dca735 {color: black;background-color: white;}#sk-23bfd273-c859-4aa1-abea-706d84dca735 pre{padding: 0;}#sk-23bfd273-c859-4aa1-abea-706d84dca735 div.sk-toggleable {background-color: white;}#sk-23bfd273-c859-4aa1-abea-706d84dca735 label.sk-toggleable__label {cursor: pointer;display: block;width: 100%;margin-bottom: 0;padding: 0.3em;box-sizing: border-box;text-align: center;}#sk-23bfd273-c859-4aa1-abea-706d84dca735 label.sk-toggleable__label-arrow:before {content: \"▸\";float: left;margin-right: 0.25em;color: #696969;}#sk-23bfd273-c859-4aa1-abea-706d84dca735 label.sk-toggleable__label-arrow:hover:before {color: black;}#sk-23bfd273-c859-4aa1-abea-706d84dca735 div.sk-estimator:hover label.sk-toggleable__label-arrow:before {color: black;}#sk-23bfd273-c859-4aa1-abea-706d84dca735 div.sk-toggleable__content {max-height: 0;max-width: 0;overflow: hidden;text-align: left;background-color: #f0f8ff;}#sk-23bfd273-c859-4aa1-abea-706d84dca735 div.sk-toggleable__content pre {margin: 0.2em;color: black;border-radius: 0.25em;background-color: #f0f8ff;}#sk-23bfd273-c859-4aa1-abea-706d84dca735 input.sk-toggleable__control:checked~div.sk-toggleable__content {max-height: 200px;max-width: 100%;overflow: auto;}#sk-23bfd273-c859-4aa1-abea-706d84dca735 input.sk-toggleable__control:checked~label.sk-toggleable__label-arrow:before {content: \"▾\";}#sk-23bfd273-c859-4aa1-abea-706d84dca735 div.sk-estimator input.sk-toggleable__control:checked~label.sk-toggleable__label {background-color: #d4ebff;}#sk-23bfd273-c859-4aa1-abea-706d84dca735 div.sk-label input.sk-toggleable__control:checked~label.sk-toggleable__label {background-color: #d4ebff;}#sk-23bfd273-c859-4aa1-abea-706d84dca735 input.sk-hidden--visually {border: 0;clip: rect(1px 1px 1px 1px);clip: rect(1px, 1px, 1px, 1px);height: 1px;margin: -1px;overflow: hidden;padding: 0;position: absolute;width: 1px;}#sk-23bfd273-c859-4aa1-abea-706d84dca735 div.sk-estimator {font-family: monospace;background-color: #f0f8ff;border: 1px dotted black;border-radius: 0.25em;box-sizing: border-box;margin-bottom: 0.5em;}#sk-23bfd273-c859-4aa1-abea-706d84dca735 div.sk-estimator:hover {background-color: #d4ebff;}#sk-23bfd273-c859-4aa1-abea-706d84dca735 div.sk-parallel-item::after {content: \"\";width: 100%;border-bottom: 1px solid gray;flex-grow: 1;}#sk-23bfd273-c859-4aa1-abea-706d84dca735 div.sk-label:hover label.sk-toggleable__label {background-color: #d4ebff;}#sk-23bfd273-c859-4aa1-abea-706d84dca735 div.sk-serial::before {content: \"\";position: absolute;border-left: 1px solid gray;box-sizing: border-box;top: 2em;bottom: 0;left: 50%;}#sk-23bfd273-c859-4aa1-abea-706d84dca735 div.sk-serial {display: flex;flex-direction: column;align-items: center;background-color: white;padding-right: 0.2em;padding-left: 0.2em;}#sk-23bfd273-c859-4aa1-abea-706d84dca735 div.sk-item {z-index: 1;}#sk-23bfd273-c859-4aa1-abea-706d84dca735 div.sk-parallel {display: flex;align-items: stretch;justify-content: center;background-color: white;}#sk-23bfd273-c859-4aa1-abea-706d84dca735 div.sk-parallel::before {content: \"\";position: absolute;border-left: 1px solid gray;box-sizing: border-box;top: 2em;bottom: 0;left: 50%;}#sk-23bfd273-c859-4aa1-abea-706d84dca735 div.sk-parallel-item {display: flex;flex-direction: column;position: relative;background-color: white;}#sk-23bfd273-c859-4aa1-abea-706d84dca735 div.sk-parallel-item:first-child::after {align-self: flex-end;width: 50%;}#sk-23bfd273-c859-4aa1-abea-706d84dca735 div.sk-parallel-item:last-child::after {align-self: flex-start;width: 50%;}#sk-23bfd273-c859-4aa1-abea-706d84dca735 div.sk-parallel-item:only-child::after {width: 0;}#sk-23bfd273-c859-4aa1-abea-706d84dca735 div.sk-dashed-wrapped {border: 1px dashed gray;margin: 0 0.4em 0.5em 0.4em;box-sizing: border-box;padding-bottom: 0.4em;background-color: white;position: relative;}#sk-23bfd273-c859-4aa1-abea-706d84dca735 div.sk-label label {font-family: monospace;font-weight: bold;background-color: white;display: inline-block;line-height: 1.2em;}#sk-23bfd273-c859-4aa1-abea-706d84dca735 div.sk-label-container {position: relative;z-index: 2;text-align: center;}#sk-23bfd273-c859-4aa1-abea-706d84dca735 div.sk-container {/* jupyter's `normalize.less` sets `[hidden] { display: none; }` but bootstrap.min.css set `[hidden] { display: none !important; }` so we also need the `!important` here to be able to override the default hidden behavior on the sphinx rendered scikit-learn.org. See: https://github.com/scikit-learn/scikit-learn/issues/21755 */display: inline-block !important;position: relative;}#sk-23bfd273-c859-4aa1-abea-706d84dca735 div.sk-text-repr-fallback {display: none;}</style><div id='sk-23bfd273-c859-4aa1-abea-706d84dca735' class=\"sk-top-container\"><div class=\"sk-text-repr-fallback\"><pre>WEASEL()</pre><b>Please rerun this cell to show the HTML repr or trust the notebook.</b></div><div class=\"sk-container\" hidden><div class='sk-item'><div class=\"sk-estimator sk-toggleable\"><input class=\"sk-toggleable__control sk-hidden--visually\" id=UUID('8060dccd-5a60-4cd2-83ec-db4f32753574') type=\"checkbox\" checked><label for=UUID('8060dccd-5a60-4cd2-83ec-db4f32753574') class='sk-toggleable__label sk-toggleable__label-arrow'>WEASEL</label><div class=\"sk-toggleable__content\"><pre>WEASEL()</pre></div></div></div></div></div>"
      ],
      "text/plain": [
       "WEASEL()"
      ]
     },
     "execution_count": 10,
     "metadata": {},
     "output_type": "execute_result"
    }
   ],
   "source": [
    "weasel"
   ]
  }
 ],
 "metadata": {
  "kernelspec": {
   "display_name": "Python 3",
   "language": "python",
   "name": "python3"
  },
  "language_info": {
   "codemirror_mode": {
    "name": "ipython",
    "version": 3
   },
   "file_extension": ".py",
   "mimetype": "text/x-python",
   "name": "python",
   "nbconvert_exporter": "python",
   "pygments_lexer": "ipython3",
   "version": "3.11.5"
  }
 },
 "nbformat": 4,
 "nbformat_minor": 2
}
